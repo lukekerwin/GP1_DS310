{
 "cells": [
  {
   "cell_type": "code",
   "execution_count": 1,
   "metadata": {},
   "outputs": [],
   "source": [
    "import pandas as pd\n",
    "import numpy as np\n",
    "import matplotlib.pyplot as plt\n",
    "from sklearn.model_selection import train_test_split\n",
    "from sklearn.linear_model import LinearRegression\n",
    "from sklearn.metrics import mean_squared_error"
   ]
  },
  {
   "cell_type": "code",
   "execution_count": 2,
   "metadata": {},
   "outputs": [
    {
     "data": {
      "text/html": [
       "<div>\n",
       "<style scoped>\n",
       "    .dataframe tbody tr th:only-of-type {\n",
       "        vertical-align: middle;\n",
       "    }\n",
       "\n",
       "    .dataframe tbody tr th {\n",
       "        vertical-align: top;\n",
       "    }\n",
       "\n",
       "    .dataframe thead th {\n",
       "        text-align: right;\n",
       "    }\n",
       "</style>\n",
       "<table border=\"1\" class=\"dataframe\">\n",
       "  <thead>\n",
       "    <tr style=\"text-align: right;\">\n",
       "      <th></th>\n",
       "      <th>id</th>\n",
       "      <th>Col 1</th>\n",
       "      <th>Col 2</th>\n",
       "      <th>Col 3</th>\n",
       "      <th>Col 4</th>\n",
       "      <th>Col 5</th>\n",
       "      <th>Col 6</th>\n",
       "      <th>Col 7</th>\n",
       "      <th>Col 8</th>\n",
       "      <th>Col 9</th>\n",
       "      <th>...</th>\n",
       "      <th>Col 56</th>\n",
       "      <th>Col 57</th>\n",
       "      <th>Col 58</th>\n",
       "      <th>Col 59</th>\n",
       "      <th>Col 60</th>\n",
       "      <th>Col 61</th>\n",
       "      <th>Col 62</th>\n",
       "      <th>Col 63</th>\n",
       "      <th>Col 64</th>\n",
       "      <th>y</th>\n",
       "    </tr>\n",
       "  </thead>\n",
       "  <tbody>\n",
       "    <tr>\n",
       "      <th>0</th>\n",
       "      <td>0</td>\n",
       "      <td>0.038076</td>\n",
       "      <td>0.050680</td>\n",
       "      <td>0.061696</td>\n",
       "      <td>0.021872</td>\n",
       "      <td>-0.044223</td>\n",
       "      <td>-0.034821</td>\n",
       "      <td>-0.043401</td>\n",
       "      <td>-0.002592</td>\n",
       "      <td>0.019908</td>\n",
       "      <td>...</td>\n",
       "      <td>-0.022038</td>\n",
       "      <td>-0.031125</td>\n",
       "      <td>-0.000922</td>\n",
       "      <td>0.033494</td>\n",
       "      <td>0.000852</td>\n",
       "      <td>0.031150</td>\n",
       "      <td>-0.028191</td>\n",
       "      <td>-0.017658</td>\n",
       "      <td>-0.027794</td>\n",
       "      <td>151</td>\n",
       "    </tr>\n",
       "    <tr>\n",
       "      <th>1</th>\n",
       "      <td>1</td>\n",
       "      <td>-0.001882</td>\n",
       "      <td>-0.044642</td>\n",
       "      <td>-0.051474</td>\n",
       "      <td>-0.026328</td>\n",
       "      <td>-0.008449</td>\n",
       "      <td>-0.019163</td>\n",
       "      <td>0.074412</td>\n",
       "      <td>-0.039493</td>\n",
       "      <td>-0.068330</td>\n",
       "      <td>...</td>\n",
       "      <td>-0.011564</td>\n",
       "      <td>0.012973</td>\n",
       "      <td>0.023783</td>\n",
       "      <td>-0.023815</td>\n",
       "      <td>-0.094506</td>\n",
       "      <td>-0.140378</td>\n",
       "      <td>0.025298</td>\n",
       "      <td>0.053034</td>\n",
       "      <td>0.104013</td>\n",
       "      <td>75</td>\n",
       "    </tr>\n",
       "    <tr>\n",
       "      <th>2</th>\n",
       "      <td>2</td>\n",
       "      <td>0.085299</td>\n",
       "      <td>0.050680</td>\n",
       "      <td>0.044451</td>\n",
       "      <td>-0.005671</td>\n",
       "      <td>-0.045599</td>\n",
       "      <td>-0.034194</td>\n",
       "      <td>-0.032356</td>\n",
       "      <td>-0.002592</td>\n",
       "      <td>0.002864</td>\n",
       "      <td>...</td>\n",
       "      <td>-0.022063</td>\n",
       "      <td>-0.018016</td>\n",
       "      <td>0.004913</td>\n",
       "      <td>0.032956</td>\n",
       "      <td>0.018281</td>\n",
       "      <td>0.032795</td>\n",
       "      <td>-0.027332</td>\n",
       "      <td>-0.017236</td>\n",
       "      <td>-0.022304</td>\n",
       "      <td>141</td>\n",
       "    </tr>\n",
       "    <tr>\n",
       "      <th>3</th>\n",
       "      <td>3</td>\n",
       "      <td>-0.089063</td>\n",
       "      <td>-0.044642</td>\n",
       "      <td>-0.011595</td>\n",
       "      <td>-0.036656</td>\n",
       "      <td>0.012191</td>\n",
       "      <td>0.024991</td>\n",
       "      <td>-0.036038</td>\n",
       "      <td>0.034309</td>\n",
       "      <td>0.022692</td>\n",
       "      <td>...</td>\n",
       "      <td>-0.009984</td>\n",
       "      <td>-0.003373</td>\n",
       "      <td>-0.019109</td>\n",
       "      <td>0.008159</td>\n",
       "      <td>0.001898</td>\n",
       "      <td>0.021514</td>\n",
       "      <td>-0.012045</td>\n",
       "      <td>-0.024872</td>\n",
       "      <td>-0.025042</td>\n",
       "      <td>206</td>\n",
       "    </tr>\n",
       "    <tr>\n",
       "      <th>4</th>\n",
       "      <td>4</td>\n",
       "      <td>0.005383</td>\n",
       "      <td>-0.044642</td>\n",
       "      <td>-0.036385</td>\n",
       "      <td>0.021872</td>\n",
       "      <td>0.003935</td>\n",
       "      <td>0.015596</td>\n",
       "      <td>0.008142</td>\n",
       "      <td>-0.002592</td>\n",
       "      <td>-0.031991</td>\n",
       "      <td>...</td>\n",
       "      <td>-0.024091</td>\n",
       "      <td>-0.026846</td>\n",
       "      <td>-0.029687</td>\n",
       "      <td>0.030984</td>\n",
       "      <td>0.014489</td>\n",
       "      <td>0.005386</td>\n",
       "      <td>-0.025575</td>\n",
       "      <td>-0.016180</td>\n",
       "      <td>0.008735</td>\n",
       "      <td>135</td>\n",
       "    </tr>\n",
       "    <tr>\n",
       "      <th>...</th>\n",
       "      <td>...</td>\n",
       "      <td>...</td>\n",
       "      <td>...</td>\n",
       "      <td>...</td>\n",
       "      <td>...</td>\n",
       "      <td>...</td>\n",
       "      <td>...</td>\n",
       "      <td>...</td>\n",
       "      <td>...</td>\n",
       "      <td>...</td>\n",
       "      <td>...</td>\n",
       "      <td>...</td>\n",
       "      <td>...</td>\n",
       "      <td>...</td>\n",
       "      <td>...</td>\n",
       "      <td>...</td>\n",
       "      <td>...</td>\n",
       "      <td>...</td>\n",
       "      <td>...</td>\n",
       "      <td>...</td>\n",
       "      <td>...</td>\n",
       "    </tr>\n",
       "    <tr>\n",
       "      <th>155</th>\n",
       "      <td>155</td>\n",
       "      <td>-0.027310</td>\n",
       "      <td>0.050680</td>\n",
       "      <td>0.060618</td>\n",
       "      <td>0.049415</td>\n",
       "      <td>0.085116</td>\n",
       "      <td>0.086368</td>\n",
       "      <td>-0.002903</td>\n",
       "      <td>0.034309</td>\n",
       "      <td>0.037814</td>\n",
       "      <td>...</td>\n",
       "      <td>0.023104</td>\n",
       "      <td>0.056056</td>\n",
       "      <td>0.075937</td>\n",
       "      <td>0.029510</td>\n",
       "      <td>0.017894</td>\n",
       "      <td>0.010752</td>\n",
       "      <td>-0.001955</td>\n",
       "      <td>0.014242</td>\n",
       "      <td>0.015606</td>\n",
       "      <td>186</td>\n",
       "    </tr>\n",
       "    <tr>\n",
       "      <th>156</th>\n",
       "      <td>156</td>\n",
       "      <td>-0.016412</td>\n",
       "      <td>-0.044642</td>\n",
       "      <td>-0.010517</td>\n",
       "      <td>0.001215</td>\n",
       "      <td>-0.037344</td>\n",
       "      <td>-0.035760</td>\n",
       "      <td>0.011824</td>\n",
       "      <td>-0.039493</td>\n",
       "      <td>-0.021394</td>\n",
       "      <td>...</td>\n",
       "      <td>-0.001265</td>\n",
       "      <td>0.000986</td>\n",
       "      <td>0.012134</td>\n",
       "      <td>0.022610</td>\n",
       "      <td>0.014659</td>\n",
       "      <td>0.004828</td>\n",
       "      <td>-0.010755</td>\n",
       "      <td>0.008008</td>\n",
       "      <td>-0.006328</td>\n",
       "      <td>25</td>\n",
       "    </tr>\n",
       "    <tr>\n",
       "      <th>157</th>\n",
       "      <td>157</td>\n",
       "      <td>-0.001882</td>\n",
       "      <td>0.050680</td>\n",
       "      <td>-0.033151</td>\n",
       "      <td>-0.018294</td>\n",
       "      <td>0.031454</td>\n",
       "      <td>0.042840</td>\n",
       "      <td>-0.013948</td>\n",
       "      <td>0.019917</td>\n",
       "      <td>0.010226</td>\n",
       "      <td>...</td>\n",
       "      <td>-0.010049</td>\n",
       "      <td>-0.006214</td>\n",
       "      <td>0.011544</td>\n",
       "      <td>0.026163</td>\n",
       "      <td>0.017152</td>\n",
       "      <td>0.005169</td>\n",
       "      <td>-0.023226</td>\n",
       "      <td>-0.007626</td>\n",
       "      <td>-0.015175</td>\n",
       "      <td>84</td>\n",
       "    </tr>\n",
       "    <tr>\n",
       "      <th>158</th>\n",
       "      <td>158</td>\n",
       "      <td>-0.012780</td>\n",
       "      <td>-0.044642</td>\n",
       "      <td>-0.065486</td>\n",
       "      <td>-0.069938</td>\n",
       "      <td>0.001183</td>\n",
       "      <td>0.016849</td>\n",
       "      <td>-0.002903</td>\n",
       "      <td>-0.007020</td>\n",
       "      <td>-0.030751</td>\n",
       "      <td>...</td>\n",
       "      <td>-0.025315</td>\n",
       "      <td>-0.027269</td>\n",
       "      <td>-0.032436</td>\n",
       "      <td>0.031763</td>\n",
       "      <td>0.022391</td>\n",
       "      <td>0.017242</td>\n",
       "      <td>-0.022989</td>\n",
       "      <td>-0.011548</td>\n",
       "      <td>0.010113</td>\n",
       "      <td>96</td>\n",
       "    </tr>\n",
       "    <tr>\n",
       "      <th>159</th>\n",
       "      <td>159</td>\n",
       "      <td>-0.005515</td>\n",
       "      <td>-0.044642</td>\n",
       "      <td>0.043373</td>\n",
       "      <td>0.087287</td>\n",
       "      <td>0.013567</td>\n",
       "      <td>0.007141</td>\n",
       "      <td>-0.013948</td>\n",
       "      <td>-0.002592</td>\n",
       "      <td>0.042345</td>\n",
       "      <td>...</td>\n",
       "      <td>-0.023747</td>\n",
       "      <td>-0.009201</td>\n",
       "      <td>-0.016795</td>\n",
       "      <td>0.032060</td>\n",
       "      <td>0.007030</td>\n",
       "      <td>0.019462</td>\n",
       "      <td>-0.029322</td>\n",
       "      <td>-0.017658</td>\n",
       "      <td>-0.035639</td>\n",
       "      <td>195</td>\n",
       "    </tr>\n",
       "  </tbody>\n",
       "</table>\n",
       "<p>160 rows × 66 columns</p>\n",
       "</div>"
      ],
      "text/plain": [
       "      id     Col 1     Col 2     Col 3     Col 4     Col 5     Col 6  \\\n",
       "0      0  0.038076  0.050680  0.061696  0.021872 -0.044223 -0.034821   \n",
       "1      1 -0.001882 -0.044642 -0.051474 -0.026328 -0.008449 -0.019163   \n",
       "2      2  0.085299  0.050680  0.044451 -0.005671 -0.045599 -0.034194   \n",
       "3      3 -0.089063 -0.044642 -0.011595 -0.036656  0.012191  0.024991   \n",
       "4      4  0.005383 -0.044642 -0.036385  0.021872  0.003935  0.015596   \n",
       "..   ...       ...       ...       ...       ...       ...       ...   \n",
       "155  155 -0.027310  0.050680  0.060618  0.049415  0.085116  0.086368   \n",
       "156  156 -0.016412 -0.044642 -0.010517  0.001215 -0.037344 -0.035760   \n",
       "157  157 -0.001882  0.050680 -0.033151 -0.018294  0.031454  0.042840   \n",
       "158  158 -0.012780 -0.044642 -0.065486 -0.069938  0.001183  0.016849   \n",
       "159  159 -0.005515 -0.044642  0.043373  0.087287  0.013567  0.007141   \n",
       "\n",
       "        Col 7     Col 8     Col 9  ...    Col 56    Col 57    Col 58  \\\n",
       "0   -0.043401 -0.002592  0.019908  ... -0.022038 -0.031125 -0.000922   \n",
       "1    0.074412 -0.039493 -0.068330  ... -0.011564  0.012973  0.023783   \n",
       "2   -0.032356 -0.002592  0.002864  ... -0.022063 -0.018016  0.004913   \n",
       "3   -0.036038  0.034309  0.022692  ... -0.009984 -0.003373 -0.019109   \n",
       "4    0.008142 -0.002592 -0.031991  ... -0.024091 -0.026846 -0.029687   \n",
       "..        ...       ...       ...  ...       ...       ...       ...   \n",
       "155 -0.002903  0.034309  0.037814  ...  0.023104  0.056056  0.075937   \n",
       "156  0.011824 -0.039493 -0.021394  ... -0.001265  0.000986  0.012134   \n",
       "157 -0.013948  0.019917  0.010226  ... -0.010049 -0.006214  0.011544   \n",
       "158 -0.002903 -0.007020 -0.030751  ... -0.025315 -0.027269 -0.032436   \n",
       "159 -0.013948 -0.002592  0.042345  ... -0.023747 -0.009201 -0.016795   \n",
       "\n",
       "       Col 59    Col 60    Col 61    Col 62    Col 63    Col 64    y  \n",
       "0    0.033494  0.000852  0.031150 -0.028191 -0.017658 -0.027794  151  \n",
       "1   -0.023815 -0.094506 -0.140378  0.025298  0.053034  0.104013   75  \n",
       "2    0.032956  0.018281  0.032795 -0.027332 -0.017236 -0.022304  141  \n",
       "3    0.008159  0.001898  0.021514 -0.012045 -0.024872 -0.025042  206  \n",
       "4    0.030984  0.014489  0.005386 -0.025575 -0.016180  0.008735  135  \n",
       "..        ...       ...       ...       ...       ...       ...  ...  \n",
       "155  0.029510  0.017894  0.010752 -0.001955  0.014242  0.015606  186  \n",
       "156  0.022610  0.014659  0.004828 -0.010755  0.008008 -0.006328   25  \n",
       "157  0.026163  0.017152  0.005169 -0.023226 -0.007626 -0.015175   84  \n",
       "158  0.031763  0.022391  0.017242 -0.022989 -0.011548  0.010113   96  \n",
       "159  0.032060  0.007030  0.019462 -0.029322 -0.017658 -0.035639  195  \n",
       "\n",
       "[160 rows x 66 columns]"
      ]
     },
     "execution_count": 2,
     "metadata": {},
     "output_type": "execute_result"
    }
   ],
   "source": [
    "df = pd.read_csv('train.csv')\n",
    "\n",
    "df"
   ]
  },
  {
   "cell_type": "code",
   "execution_count": 32,
   "metadata": {},
   "outputs": [],
   "source": [
    "# alpha = list(np.linspace(0, 100, 10))\n",
    "# alpha"
   ]
  },
  {
   "cell_type": "code",
   "execution_count": 33,
   "metadata": {},
   "outputs": [],
   "source": [
    "# from sklearn.preprocessing import StandardScaler\n",
    "\n",
    "# X = df.drop(columns=['id', 'y'])\n",
    "# y = df['y']\n",
    "\n",
    "# sc = StandardScaler()\n",
    "# X = sc.fit_transform(X)\n",
    "\n",
    "# X_df = pd.DataFrame(X)\n",
    "\n",
    "# X_df"
   ]
  },
  {
   "cell_type": "code",
   "execution_count": 34,
   "metadata": {},
   "outputs": [],
   "source": [
    "# from sklearn.linear_model import LinearRegression\n",
    "# from sklearn.model_selection import train_test_split\n",
    "\n",
    "# X_train, X_val, y_train, y_val = train_test_split(X, y, test_size = 0.25, random_state=23)\n",
    "\n",
    "# print(X_train.shape, X_val.shape)\n",
    "# y = y.values"
   ]
  },
  {
   "cell_type": "code",
   "execution_count": 35,
   "metadata": {},
   "outputs": [],
   "source": [
    "# from sklearn.linear_model import RidgeCV, Ridge\n",
    "# from sklearn.metrics import mean_squared_error, r2_score\n",
    "\n",
    "# alpha_values = np.round(np.linspace(1, 100, 100), 0)\n",
    "# train_mse = []\n",
    "# val_mse = []\n",
    "# r2_scores = []\n",
    "\n",
    "# for alpha in alpha_values:\n",
    "#     ridge = Ridge(alpha=alpha)\n",
    "#     ridge.fit(X_train, y_train)\n",
    "    \n",
    "#     # Predict on the training and validation sets\n",
    "#     y_pred_train = ridge.predict(X_train)\n",
    "#     y_pred_val = ridge.predict(X_val)\n",
    "    \n",
    "#     # Calculate MSE and R^2 for training and validation sets\n",
    "#     train_mse.append(np.round(mean_squared_error(y_train, y_pred_train), 2))\n",
    "#     val_mse.append(np.round(mean_squared_error(y_val, y_pred_val), 2))\n",
    "#     r2_scores.append(np.round(r2_score(y_val, y_pred_val), 2))\n",
    "    \n",
    "#     print(f'For alpha {alpha}, the train MSE is {train_mse[-1]}, and the validation MSE is {val_mse[-1]}, R^2 is {r2_scores[-1]}')\n",
    "\n",
    "# # Find the alpha with the lowest validation MSE\n",
    "# best_alpha = alpha_values[np.argmin(val_mse)]\n",
    "# print(f'Best alpha: {best_alpha}')"
   ]
  },
  {
   "cell_type": "code",
   "execution_count": 36,
   "metadata": {},
   "outputs": [],
   "source": [
    "# # RidgeCV\n",
    "\n",
    "# ridge_cv = RidgeCV(alphas=alpha_values, cv=5)  # Create a RidgeCV model with cross-validation\n",
    "# ridge_cv.fit(X_train, y_train)  # Fit the model to your training data\n",
    "\n",
    "# # Access the best alpha and coefficients\n",
    "# best_alpha = ridge_cv.alpha_\n",
    "# coefficients = ridge_cv.coef_\n",
    "\n",
    "# # Make predictions on the validation set\n",
    "# y_pred_val = ridge_cv.predict(X_val)\n",
    "\n",
    "# # Calculate MSE and R^2 for validation set\n",
    "# val_mse = mean_squared_error(y_val, y_pred_val)\n",
    "# r2 = r2_score(y_val, y_pred_val)\n",
    "\n",
    "# print(f'Best alpha: {best_alpha}')\n",
    "# print(f'Validation MSE: {val_mse}')\n",
    "# print(f'R^2 score on validation set: {r2}')"
   ]
  },
  {
   "cell_type": "code",
   "execution_count": 37,
   "metadata": {},
   "outputs": [],
   "source": [
    "# # Ridge final model\n",
    "\n",
    "# model = Ridge(alpha = 50)\n",
    "# model.fit(X, y)"
   ]
  },
  {
   "cell_type": "code",
   "execution_count": 38,
   "metadata": {},
   "outputs": [],
   "source": [
    "# # LassoCV\n",
    "\n",
    "# from sklearn.linear_model import LassoCV\n",
    "\n",
    "# lasso_cv = LassoCV(alphas=alpha_values, cv=5)  # Create a LassoCV model with cross-validation\n",
    "# lasso_cv.fit(X_train, y_train)  # Fit the model to your training data\n",
    "\n",
    "# # Access the best alpha and coefficients\n",
    "# best_alpha = lasso_cv.alpha_\n",
    "# coefficients = lasso_cv.coef_\n",
    "\n",
    "# # Make predictions on the validation set\n",
    "# y_pred_val = lasso_cv.predict(X_val)\n",
    "\n",
    "# # Calculate MSE and R^2 for validation set\n",
    "# val_mse = mean_squared_error(y_val, y_pred_val)\n",
    "# r2 = r2_score(y_val, y_pred_val)\n",
    "\n",
    "# print(f'Best alpha: {best_alpha}')\n",
    "# print(f'Validation MSE: {val_mse}')\n",
    "# print(f'R^2 score on validation set: {r2}')"
   ]
  },
  {
   "cell_type": "code",
   "execution_count": 39,
   "metadata": {},
   "outputs": [],
   "source": [
    "# # Lasso final model\n",
    "# from sklearn.linear_model import Lasso\n",
    "\n",
    "# model = Lasso(alpha = 3)\n",
    "# model.fit(X, y)"
   ]
  },
  {
   "cell_type": "code",
   "execution_count": 40,
   "metadata": {},
   "outputs": [
    {
     "name": "stdout",
     "output_type": "stream",
     "text": [
      "<class 'pandas.core.frame.DataFrame'>\n",
      "RangeIndex: 160 entries, 0 to 159\n",
      "Data columns (total 66 columns):\n",
      " #   Column  Non-Null Count  Dtype  \n",
      "---  ------  --------------  -----  \n",
      " 0   id      160 non-null    int64  \n",
      " 1   Col 1   160 non-null    float64\n",
      " 2   Col 2   160 non-null    float64\n",
      " 3   Col 3   160 non-null    float64\n",
      " 4   Col 4   160 non-null    float64\n",
      " 5   Col 5   160 non-null    float64\n",
      " 6   Col 6   160 non-null    float64\n",
      " 7   Col 7   160 non-null    float64\n",
      " 8   Col 8   160 non-null    float64\n",
      " 9   Col 9   160 non-null    float64\n",
      " 10  Col 10  160 non-null    float64\n",
      " 11  Col 11  160 non-null    float64\n",
      " 12  Col 12  160 non-null    float64\n",
      " 13  Col 13  160 non-null    float64\n",
      " 14  Col 14  160 non-null    float64\n",
      " 15  Col 15  160 non-null    float64\n",
      " 16  Col 16  160 non-null    float64\n",
      " 17  Col 17  160 non-null    float64\n",
      " 18  Col 18  160 non-null    float64\n",
      " 19  Col 19  160 non-null    float64\n",
      " 20  Col 20  160 non-null    float64\n",
      " 21  Col 21  160 non-null    float64\n",
      " 22  Col 22  160 non-null    float64\n",
      " 23  Col 23  160 non-null    float64\n",
      " 24  Col 24  160 non-null    float64\n",
      " 25  Col 25  160 non-null    float64\n",
      " 26  Col 26  160 non-null    float64\n",
      " 27  Col 27  160 non-null    float64\n",
      " 28  Col 28  160 non-null    float64\n",
      " 29  Col 29  160 non-null    float64\n",
      " 30  Col 30  160 non-null    float64\n",
      " 31  Col 31  160 non-null    float64\n",
      " 32  Col 32  160 non-null    float64\n",
      " 33  Col 33  160 non-null    float64\n",
      " 34  Col 34  160 non-null    float64\n",
      " 35  Col 35  160 non-null    float64\n",
      " 36  Col 36  160 non-null    float64\n",
      " 37  Col 37  160 non-null    float64\n",
      " 38  Col 38  160 non-null    float64\n",
      " 39  Col 39  160 non-null    float64\n",
      " 40  Col 40  160 non-null    float64\n",
      " 41  Col 41  160 non-null    float64\n",
      " 42  Col 42  160 non-null    float64\n",
      " 43  Col 43  160 non-null    float64\n",
      " 44  Col 44  160 non-null    float64\n",
      " 45  Col 45  160 non-null    float64\n",
      " 46  Col 46  160 non-null    float64\n",
      " 47  Col 47  160 non-null    float64\n",
      " 48  Col 48  160 non-null    float64\n",
      " 49  Col 49  160 non-null    float64\n",
      " 50  Col 50  160 non-null    float64\n",
      " 51  Col 51  160 non-null    float64\n",
      " 52  Col 52  160 non-null    float64\n",
      " 53  Col 53  160 non-null    float64\n",
      " 54  Col 54  160 non-null    float64\n",
      " 55  Col 55  160 non-null    float64\n",
      " 56  Col 56  160 non-null    float64\n",
      " 57  Col 57  160 non-null    float64\n",
      " 58  Col 58  160 non-null    float64\n",
      " 59  Col 59  160 non-null    float64\n",
      " 60  Col 60  160 non-null    float64\n",
      " 61  Col 61  160 non-null    float64\n",
      " 62  Col 62  160 non-null    float64\n",
      " 63  Col 63  160 non-null    float64\n",
      " 64  Col 64  160 non-null    float64\n",
      " 65  y       160 non-null    int64  \n",
      "dtypes: float64(64), int64(2)\n",
      "memory usage: 82.6 KB\n"
     ]
    }
   ],
   "source": [
    "df.info()"
   ]
  },
  {
   "cell_type": "code",
   "execution_count": 41,
   "metadata": {},
   "outputs": [
    {
     "data": {
      "text/plain": [
       "20      68\n",
       "144    174\n",
       "61     144\n",
       "88      42\n",
       "139    281\n",
       "      ... \n",
       "39      90\n",
       "91     164\n",
       "31      59\n",
       "40     100\n",
       "83     210\n",
       "Name: y, Length: 128, dtype: int64"
      ]
     },
     "execution_count": 41,
     "metadata": {},
     "output_type": "execute_result"
    }
   ],
   "source": [
    "y_train"
   ]
  },
  {
   "cell_type": "code",
   "execution_count": 42,
   "metadata": {},
   "outputs": [
    {
     "data": {
      "text/plain": [
       "id        0\n",
       "Col 1     0\n",
       "Col 2     0\n",
       "Col 3     0\n",
       "Col 4     0\n",
       "         ..\n",
       "Col 61    0\n",
       "Col 62    0\n",
       "Col 63    0\n",
       "Col 64    0\n",
       "y         0\n",
       "Length: 66, dtype: int64"
      ]
     },
     "execution_count": 42,
     "metadata": {},
     "output_type": "execute_result"
    }
   ],
   "source": [
    "df.isnull().sum()"
   ]
  },
  {
   "cell_type": "code",
   "execution_count": 43,
   "metadata": {},
   "outputs": [
    {
     "data": {
      "text/plain": [
       "0      151\n",
       "1       75\n",
       "2      141\n",
       "3      206\n",
       "4      135\n",
       "      ... \n",
       "155    186\n",
       "156     25\n",
       "157     84\n",
       "158     96\n",
       "159    195\n",
       "Name: y, Length: 160, dtype: int64"
      ]
     },
     "execution_count": 43,
     "metadata": {},
     "output_type": "execute_result"
    }
   ],
   "source": [
    "df['y']"
   ]
  },
  {
   "cell_type": "code",
   "execution_count": 93,
   "metadata": {},
   "outputs": [
    {
     "data": {
      "text/plain": [
       "(array([15., 26., 29., 24., 21., 14.,  6., 12.,  9.,  4.]),\n",
       " array([ 25. ,  56.6,  88.2, 119.8, 151.4, 183. , 214.6, 246.2, 277.8,\n",
       "        309.4, 341. ]),\n",
       " <BarContainer object of 10 artists>)"
      ]
     },
     "execution_count": 93,
     "metadata": {},
     "output_type": "execute_result"
    },
    {
     "data": {
      "image/png": "[encoded data removed]",
      "text/plain": [
       "<Figure size 432x288 with 1 Axes>"
      ]
     },
     "metadata": {
      "needs_background": "light"
     },
     "output_type": "display_data"
    }
   ],
   "source": [
    "plt.hist(df['y'])"
   ]
  },
  {
   "cell_type": "code",
   "execution_count": 92,
   "metadata": {},
   "outputs": [
    {
     "data": {
      "text/html": [
       "<div>\n",
       "<style scoped>\n",
       "    .dataframe tbody tr th:only-of-type {\n",
       "        vertical-align: middle;\n",
       "    }\n",
       "\n",
       "    .dataframe tbody tr th {\n",
       "        vertical-align: top;\n",
       "    }\n",
       "\n",
       "    .dataframe thead th {\n",
       "        text-align: right;\n",
       "    }\n",
       "</style>\n",
       "<table border=\"1\" class=\"dataframe\">\n",
       "  <thead>\n",
       "    <tr style=\"text-align: right;\">\n",
       "      <th></th>\n",
       "      <th>id</th>\n",
       "      <th>Col 1</th>\n",
       "      <th>Col 2</th>\n",
       "      <th>Col 3</th>\n",
       "      <th>Col 4</th>\n",
       "      <th>Col 5</th>\n",
       "      <th>Col 6</th>\n",
       "      <th>Col 7</th>\n",
       "      <th>Col 8</th>\n",
       "      <th>Col 9</th>\n",
       "      <th>...</th>\n",
       "      <th>Col 56</th>\n",
       "      <th>Col 57</th>\n",
       "      <th>Col 58</th>\n",
       "      <th>Col 59</th>\n",
       "      <th>Col 60</th>\n",
       "      <th>Col 61</th>\n",
       "      <th>Col 62</th>\n",
       "      <th>Col 63</th>\n",
       "      <th>Col 64</th>\n",
       "      <th>y</th>\n",
       "    </tr>\n",
       "  </thead>\n",
       "  <tbody>\n",
       "    <tr>\n",
       "      <th>count</th>\n",
       "      <td>160.000000</td>\n",
       "      <td>160.000000</td>\n",
       "      <td>160.000000</td>\n",
       "      <td>160.000000</td>\n",
       "      <td>160.000000</td>\n",
       "      <td>160.000000</td>\n",
       "      <td>160.000000</td>\n",
       "      <td>160.000000</td>\n",
       "      <td>160.000000</td>\n",
       "      <td>160.000000</td>\n",
       "      <td>...</td>\n",
       "      <td>160.000000</td>\n",
       "      <td>160.000000</td>\n",
       "      <td>160.000000</td>\n",
       "      <td>160.000000</td>\n",
       "      <td>160.000000</td>\n",
       "      <td>160.000000</td>\n",
       "      <td>160.000000</td>\n",
       "      <td>160.000000</td>\n",
       "      <td>160.000000</td>\n",
       "      <td>160.000000</td>\n",
       "    </tr>\n",
       "    <tr>\n",
       "      <th>mean</th>\n",
       "      <td>79.500000</td>\n",
       "      <td>-0.008875</td>\n",
       "      <td>-0.002343</td>\n",
       "      <td>-0.001120</td>\n",
       "      <td>-0.004401</td>\n",
       "      <td>-0.006032</td>\n",
       "      <td>-0.004778</td>\n",
       "      <td>0.002827</td>\n",
       "      <td>-0.005934</td>\n",
       "      <td>-0.006234</td>\n",
       "      <td>...</td>\n",
       "      <td>-0.000659</td>\n",
       "      <td>-0.005031</td>\n",
       "      <td>-0.000871</td>\n",
       "      <td>-0.001619</td>\n",
       "      <td>0.002133</td>\n",
       "      <td>-0.002643</td>\n",
       "      <td>-0.005465</td>\n",
       "      <td>0.001668</td>\n",
       "      <td>-0.001809</td>\n",
       "      <td>147.843750</td>\n",
       "    </tr>\n",
       "    <tr>\n",
       "      <th>std</th>\n",
       "      <td>46.332134</td>\n",
       "      <td>0.048101</td>\n",
       "      <td>0.047507</td>\n",
       "      <td>0.046042</td>\n",
       "      <td>0.045894</td>\n",
       "      <td>0.043050</td>\n",
       "      <td>0.045374</td>\n",
       "      <td>0.048762</td>\n",
       "      <td>0.047204</td>\n",
       "      <td>0.044045</td>\n",
       "      <td>...</td>\n",
       "      <td>0.055793</td>\n",
       "      <td>0.043475</td>\n",
       "      <td>0.049456</td>\n",
       "      <td>0.047331</td>\n",
       "      <td>0.045093</td>\n",
       "      <td>0.056129</td>\n",
       "      <td>0.039382</td>\n",
       "      <td>0.053606</td>\n",
       "      <td>0.047778</td>\n",
       "      <td>76.364695</td>\n",
       "    </tr>\n",
       "    <tr>\n",
       "      <th>min</th>\n",
       "      <td>0.000000</td>\n",
       "      <td>-0.107226</td>\n",
       "      <td>-0.044642</td>\n",
       "      <td>-0.083808</td>\n",
       "      <td>-0.108957</td>\n",
       "      <td>-0.126781</td>\n",
       "      <td>-0.106845</td>\n",
       "      <td>-0.102307</td>\n",
       "      <td>-0.076395</td>\n",
       "      <td>-0.126097</td>\n",
       "      <td>...</td>\n",
       "      <td>-0.076433</td>\n",
       "      <td>-0.155145</td>\n",
       "      <td>-0.151734</td>\n",
       "      <td>-0.228580</td>\n",
       "      <td>-0.143972</td>\n",
       "      <td>-0.223255</td>\n",
       "      <td>-0.160745</td>\n",
       "      <td>-0.128919</td>\n",
       "      <td>-0.092165</td>\n",
       "      <td>25.000000</td>\n",
       "    </tr>\n",
       "    <tr>\n",
       "      <th>25%</th>\n",
       "      <td>39.750000</td>\n",
       "      <td>-0.046381</td>\n",
       "      <td>-0.044642</td>\n",
       "      <td>-0.035307</td>\n",
       "      <td>-0.036656</td>\n",
       "      <td>-0.037344</td>\n",
       "      <td>-0.034273</td>\n",
       "      <td>-0.032356</td>\n",
       "      <td>-0.039493</td>\n",
       "      <td>-0.034524</td>\n",
       "      <td>...</td>\n",
       "      <td>-0.023703</td>\n",
       "      <td>-0.022007</td>\n",
       "      <td>-0.020446</td>\n",
       "      <td>-0.021084</td>\n",
       "      <td>-0.018638</td>\n",
       "      <td>-0.017585</td>\n",
       "      <td>-0.026875</td>\n",
       "      <td>-0.019626</td>\n",
       "      <td>-0.023964</td>\n",
       "      <td>87.750000</td>\n",
       "    </tr>\n",
       "    <tr>\n",
       "      <th>50%</th>\n",
       "      <td>79.500000</td>\n",
       "      <td>-0.001882</td>\n",
       "      <td>-0.044642</td>\n",
       "      <td>-0.006206</td>\n",
       "      <td>-0.012556</td>\n",
       "      <td>-0.005009</td>\n",
       "      <td>-0.009925</td>\n",
       "      <td>-0.002903</td>\n",
       "      <td>-0.002592</td>\n",
       "      <td>-0.010412</td>\n",
       "      <td>...</td>\n",
       "      <td>-0.014868</td>\n",
       "      <td>-0.009495</td>\n",
       "      <td>-0.010498</td>\n",
       "      <td>0.014418</td>\n",
       "      <td>0.009642</td>\n",
       "      <td>0.009252</td>\n",
       "      <td>-0.014899</td>\n",
       "      <td>-0.015336</td>\n",
       "      <td>-0.015265</td>\n",
       "      <td>134.500000</td>\n",
       "    </tr>\n",
       "    <tr>\n",
       "      <th>75%</th>\n",
       "      <td>119.250000</td>\n",
       "      <td>0.030811</td>\n",
       "      <td>0.050680</td>\n",
       "      <td>0.028284</td>\n",
       "      <td>0.021872</td>\n",
       "      <td>0.020446</td>\n",
       "      <td>0.021703</td>\n",
       "      <td>0.037595</td>\n",
       "      <td>0.025822</td>\n",
       "      <td>0.026221</td>\n",
       "      <td>...</td>\n",
       "      <td>0.003447</td>\n",
       "      <td>0.013173</td>\n",
       "      <td>0.009096</td>\n",
       "      <td>0.031522</td>\n",
       "      <td>0.022619</td>\n",
       "      <td>0.022176</td>\n",
       "      <td>0.014464</td>\n",
       "      <td>0.018200</td>\n",
       "      <td>0.011668</td>\n",
       "      <td>195.500000</td>\n",
       "    </tr>\n",
       "    <tr>\n",
       "      <th>max</th>\n",
       "      <td>159.000000</td>\n",
       "      <td>0.085299</td>\n",
       "      <td>0.050680</td>\n",
       "      <td>0.128521</td>\n",
       "      <td>0.125158</td>\n",
       "      <td>0.152538</td>\n",
       "      <td>0.198788</td>\n",
       "      <td>0.181179</td>\n",
       "      <td>0.185234</td>\n",
       "      <td>0.133599</td>\n",
       "      <td>...</td>\n",
       "      <td>0.555129</td>\n",
       "      <td>0.113164</td>\n",
       "      <td>0.299032</td>\n",
       "      <td>0.080445</td>\n",
       "      <td>0.163067</td>\n",
       "      <td>0.209905</td>\n",
       "      <td>0.157844</td>\n",
       "      <td>0.318104</td>\n",
       "      <td>0.338184</td>\n",
       "      <td>341.000000</td>\n",
       "    </tr>\n",
       "  </tbody>\n",
       "</table>\n",
       "<p>8 rows × 66 columns</p>\n",
       "</div>"
      ],
      "text/plain": [
       "               id       Col 1       Col 2       Col 3       Col 4       Col 5  \\\n",
       "count  160.000000  160.000000  160.000000  160.000000  160.000000  160.000000   \n",
       "mean    79.500000   -0.008875   -0.002343   -0.001120   -0.004401   -0.006032   \n",
       "std     46.332134    0.048101    0.047507    0.046042    0.045894    0.043050   \n",
       "min      0.000000   -0.107226   -0.044642   -0.083808   -0.108957   -0.126781   \n",
       "25%     39.750000   -0.046381   -0.044642   -0.035307   -0.036656   -0.037344   \n",
       "50%     79.500000   -0.001882   -0.044642   -0.006206   -0.012556   -0.005009   \n",
       "75%    119.250000    0.030811    0.050680    0.028284    0.021872    0.020446   \n",
       "max    159.000000    0.085299    0.050680    0.128521    0.125158    0.152538   \n",
       "\n",
       "            Col 6       Col 7       Col 8       Col 9  ...      Col 56  \\\n",
       "count  160.000000  160.000000  160.000000  160.000000  ...  160.000000   \n",
       "mean    -0.004778    0.002827   -0.005934   -0.006234  ...   -0.000659   \n",
       "std      0.045374    0.048762    0.047204    0.044045  ...    0.055793   \n",
       "min     -0.106845   -0.102307   -0.076395   -0.126097  ...   -0.076433   \n",
       "25%     -0.034273   -0.032356   -0.039493   -0.034524  ...   -0.023703   \n",
       "50%     -0.009925   -0.002903   -0.002592   -0.010412  ...   -0.014868   \n",
       "75%      0.021703    0.037595    0.025822    0.026221  ...    0.003447   \n",
       "max      0.198788    0.181179    0.185234    0.133599  ...    0.555129   \n",
       "\n",
       "           Col 57      Col 58      Col 59      Col 60      Col 61      Col 62  \\\n",
       "count  160.000000  160.000000  160.000000  160.000000  160.000000  160.000000   \n",
       "mean    -0.005031   -0.000871   -0.001619    0.002133   -0.002643   -0.005465   \n",
       "std      0.043475    0.049456    0.047331    0.045093    0.056129    0.039382   \n",
       "min     -0.155145   -0.151734   -0.228580   -0.143972   -0.223255   -0.160745   \n",
       "25%     -0.022007   -0.020446   -0.021084   -0.018638   -0.017585   -0.026875   \n",
       "50%     -0.009495   -0.010498    0.014418    0.009642    0.009252   -0.014899   \n",
       "75%      0.013173    0.009096    0.031522    0.022619    0.022176    0.014464   \n",
       "max      0.113164    0.299032    0.080445    0.163067    0.209905    0.157844   \n",
       "\n",
       "           Col 63      Col 64           y  \n",
       "count  160.000000  160.000000  160.000000  \n",
       "mean     0.001668   -0.001809  147.843750  \n",
       "std      0.053606    0.047778   76.364695  \n",
       "min     -0.128919   -0.092165   25.000000  \n",
       "25%     -0.019626   -0.023964   87.750000  \n",
       "50%     -0.015336   -0.015265  134.500000  \n",
       "75%      0.018200    0.011668  195.500000  \n",
       "max      0.318104    0.338184  341.000000  \n",
       "\n",
       "[8 rows x 66 columns]"
      ]
     },
     "execution_count": 92,
     "metadata": {},
     "output_type": "execute_result"
    }
   ],
   "source": [
    "df.describe(include='all')"
   ]
  },
  {
   "cell_type": "code",
   "execution_count": 46,
   "metadata": {},
   "outputs": [],
   "source": [
    "# X = df.drop(columns=['y'])\n",
    "# y = df['y']"
   ]
  },
  {
   "cell_type": "code",
   "execution_count": 88,
   "metadata": {},
   "outputs": [],
   "source": [
    "from sklearn.decomposition import PCA\n",
    "\n",
    "pca = PCA(n_components=2)\n",
    "X_pca = pca.fit_transform(X)"
   ]
  },
  {
   "cell_type": "code",
   "execution_count": 48,
   "metadata": {},
   "outputs": [],
   "source": [
    "# X_train, X_test, y_train, y_test = train_test_split(X_pca, y, test_size=0.2, random_state=23)\n",
    "\n",
    "# print(X_train.shape)\n",
    "# print(X_test.shape)"
   ]
  },
  {
   "cell_type": "code",
   "execution_count": 49,
   "metadata": {},
   "outputs": [],
   "source": [
    "# lin_reg = LinearRegression()\n",
    "# lin_reg.fit(X_train, y_train)\n",
    "\n",
    "# y_pred = lin_reg.predict(X_test)"
   ]
  },
  {
   "cell_type": "code",
   "execution_count": 50,
   "metadata": {},
   "outputs": [],
   "source": [
    "# mse = mean_squared_error(y_test, y_pred)\n",
    "\n",
    "# np.round(mse, 2)"
   ]
  },
  {
   "cell_type": "code",
   "execution_count": 51,
   "metadata": {},
   "outputs": [],
   "source": [
    "# # Find best principal components by mse score\n",
    "\n",
    "# # Intialize mse\n",
    "# mse = []\n",
    "# num_comps = []\n",
    "\n",
    "# for comp in range(1, len(X.columns)):\n",
    "#     pca = PCA(n_components=comp)\n",
    "#     X_pca = pca.fit_transform(X)\n",
    "\n",
    "#     X_train, X_test, y_train, y_test = train_test_split(X_pca, y, test_size=0.2, random_state=23)\n",
    "\n",
    "#     lr = LinearRegression()\n",
    "#     lr.fit(X_train, y_train)\n",
    "\n",
    "#     y_pred = lr.predict(X_test)\n",
    "#     mse.append(mean_squared_error(y_test, y_pred))\n",
    "#     num_comps.append(comp)\n",
    "\n",
    "# plt.scatter(num_comps, mse)\n",
    "# plt.plot(num_comps, mse)\n",
    "# plt.title(\"MSE by Principal Components\")\n",
    "# plt.xlabel(\"Number of Principal Components\")\n",
    "# plt.ylabel(\"Mean Squared Error (MSE)\")\n",
    "# plt.show()\n"
   ]
  },
  {
   "cell_type": "code",
   "execution_count": 52,
   "metadata": {},
   "outputs": [],
   "source": [
    "# best_mse = min(mse)\n",
    "# best_num_comp = np.argmin(mse)+1\n",
    "\n",
    "# print(f'Best number of principal components: {best_num_comp}\\nBest MSE: {best_mse}')"
   ]
  },
  {
   "cell_type": "markdown",
   "metadata": {},
   "source": [
    "## Standardizing variables"
   ]
  },
  {
   "cell_type": "code",
   "execution_count": 53,
   "metadata": {},
   "outputs": [],
   "source": [
    "# from sklearn.preprocessing import StandardScaler\n",
    "\n",
    "# X = df.drop(columns=(['id', 'y']))\n",
    "# y = df['y']\n",
    "\n",
    "# X_train, X_test, y_train, y_test = train_test_split(X, y, test_size=0.2, random_state=23)\n",
    "\n",
    "# sc = StandardScaler()\n",
    "# X_train = sc.fit_transform(X_train)\n",
    "# X_test = sc.transform(X_test)"
   ]
  },
  {
   "cell_type": "code",
   "execution_count": 54,
   "metadata": {},
   "outputs": [],
   "source": [
    "# lr = LinearRegression()\n",
    "# lr.fit(X_train, y_train)\n",
    "# y_pred = lr.predict(X_test)\n",
    "\n",
    "# mse = mean_squared_error(y_test, y_pred)\n",
    "# r2 = r2_score(y_test, y_pred)\n",
    "# print(mse)\n",
    "# print(r2)"
   ]
  },
  {
   "cell_type": "markdown",
   "metadata": {},
   "source": [
    "mse of 5702 is baseline"
   ]
  },
  {
   "cell_type": "code",
   "execution_count": 55,
   "metadata": {},
   "outputs": [],
   "source": [
    "# import seaborn as sns\n",
    "\n",
    "# # Create a heatmap\n",
    "# plt.figure(figsize=(40, 12))\n",
    "# sns.heatmap(X.corr(), annot=True, cmap='coolwarm', linewidths=0.5)\n",
    "# plt.title('Correlation Matrix')\n",
    "# plt.show()\n"
   ]
  },
  {
   "cell_type": "markdown",
   "metadata": {},
   "source": [
    "## Random Forest"
   ]
  },
  {
   "cell_type": "code",
   "execution_count": 76,
   "metadata": {},
   "outputs": [],
   "source": [
    "from sklearn.model_selection import KFold, GridSearchCV\n",
    "from sklearn.ensemble import RandomForestRegressor\n",
    "from sklearn.pipeline import Pipeline"
   ]
  },
  {
   "cell_type": "code",
   "execution_count": 77,
   "metadata": {},
   "outputs": [
    {
     "name": "stdout",
     "output_type": "stream",
     "text": [
      "Best Parameters: {'rf__max_depth': None, 'rf__min_samples_leaf': 4, 'rf__min_samples_split': 10, 'rf__n_estimators': 200}\n",
      "Mean Squared Error: 3601.807806699485\n",
      "0.20082408448580336\n"
     ]
    }
   ],
   "source": [
    "# Define the parameter grid for GridSearchCV\n",
    "param_grid = {\n",
    "    'rf__n_estimators': [50, 100, 200],\n",
    "    'rf__max_depth': [None, 10, 20, 30],\n",
    "    'rf__min_samples_split': [2, 5, 10],\n",
    "    'rf__min_samples_leaf': [1, 2, 4]\n",
    "}\n",
    "\n",
    "# Create a KFold object for cross-validation\n",
    "k_fold = KFold(n_splits=5, shuffle=True, random_state=23)\n",
    "\n",
    "# Create a RandomForestRegressor instance\n",
    "rf = RandomForestRegressor()\n",
    "\n",
    "# Create a pipeline\n",
    "pipeline = Pipeline([\n",
    "    ('rf', rf)\n",
    "])\n",
    "\n",
    "# Create GridSearchCV with the pipeline\n",
    "grid_search = GridSearchCV(pipeline, param_grid, cv=k_fold, scoring='neg_mean_squared_error', n_jobs=-1)\n",
    "grid_search.fit(X_train, y_train)\n",
    "\n",
    "# Print the best parameters and the corresponding mean squared error\n",
    "best_params = grid_search.best_params_\n",
    "print(\"Best Parameters:\", best_params)\n",
    "\n",
    "best_rf = grid_search.best_estimator_\n",
    "y_pred = best_rf.predict(X_test)\n",
    "\n",
    "mse = mean_squared_error(y_test, y_pred)\n",
    "print(\"Mean Squared Error:\", mse)\n",
    "r2 = r2_score(y_test, y_pred)\n",
    "print(r2)"
   ]
  },
  {
   "cell_type": "code",
   "execution_count": 78,
   "metadata": {},
   "outputs": [
    {
     "data": {
      "text/html": [
       "<style>#sk-container-id-3 {color: black;background-color: white;}#sk-container-id-3 pre{padding: 0;}#sk-container-id-3 div.sk-toggleable {background-color: white;}#sk-container-id-3 label.sk-toggleable__label {cursor: pointer;display: block;width: 100%;margin-bottom: 0;padding: 0.3em;box-sizing: border-box;text-align: center;}#sk-container-id-3 label.sk-toggleable__label-arrow:before {content: \"▸\";float: left;margin-right: 0.25em;color: #696969;}#sk-container-id-3 label.sk-toggleable__label-arrow:hover:before {color: black;}#sk-container-id-3 div.sk-estimator:hover label.sk-toggleable__label-arrow:before {color: black;}#sk-container-id-3 div.sk-toggleable__content {max-height: 0;max-width: 0;overflow: hidden;text-align: left;background-color: #f0f8ff;}#sk-container-id-3 div.sk-toggleable__content pre {margin: 0.2em;color: black;border-radius: 0.25em;background-color: #f0f8ff;}#sk-container-id-3 input.sk-toggleable__control:checked~div.sk-toggleable__content {max-height: 200px;max-width: 100%;overflow: auto;}#sk-container-id-3 input.sk-toggleable__control:checked~label.sk-toggleable__label-arrow:before {content: \"▾\";}#sk-container-id-3 div.sk-estimator input.sk-toggleable__control:checked~label.sk-toggleable__label {background-color: #d4ebff;}#sk-container-id-3 div.sk-label input.sk-toggleable__control:checked~label.sk-toggleable__label {background-color: #d4ebff;}#sk-container-id-3 input.sk-hidden--visually {border: 0;clip: rect(1px 1px 1px 1px);clip: rect(1px, 1px, 1px, 1px);height: 1px;margin: -1px;overflow: hidden;padding: 0;position: absolute;width: 1px;}#sk-container-id-3 div.sk-estimator {font-family: monospace;background-color: #f0f8ff;border: 1px dotted black;border-radius: 0.25em;box-sizing: border-box;margin-bottom: 0.5em;}#sk-container-id-3 div.sk-estimator:hover {background-color: #d4ebff;}#sk-container-id-3 div.sk-parallel-item::after {content: \"\";width: 100%;border-bottom: 1px solid gray;flex-grow: 1;}#sk-container-id-3 div.sk-label:hover label.sk-toggleable__label {background-color: #d4ebff;}#sk-container-id-3 div.sk-serial::before {content: \"\";position: absolute;border-left: 1px solid gray;box-sizing: border-box;top: 0;bottom: 0;left: 50%;z-index: 0;}#sk-container-id-3 div.sk-serial {display: flex;flex-direction: column;align-items: center;background-color: white;padding-right: 0.2em;padding-left: 0.2em;position: relative;}#sk-container-id-3 div.sk-item {position: relative;z-index: 1;}#sk-container-id-3 div.sk-parallel {display: flex;align-items: stretch;justify-content: center;background-color: white;position: relative;}#sk-container-id-3 div.sk-item::before, #sk-container-id-3 div.sk-parallel-item::before {content: \"\";position: absolute;border-left: 1px solid gray;box-sizing: border-box;top: 0;bottom: 0;left: 50%;z-index: -1;}#sk-container-id-3 div.sk-parallel-item {display: flex;flex-direction: column;z-index: 1;position: relative;background-color: white;}#sk-container-id-3 div.sk-parallel-item:first-child::after {align-self: flex-end;width: 50%;}#sk-container-id-3 div.sk-parallel-item:last-child::after {align-self: flex-start;width: 50%;}#sk-container-id-3 div.sk-parallel-item:only-child::after {width: 0;}#sk-container-id-3 div.sk-dashed-wrapped {border: 1px dashed gray;margin: 0 0.4em 0.5em 0.4em;box-sizing: border-box;padding-bottom: 0.4em;background-color: white;}#sk-container-id-3 div.sk-label label {font-family: monospace;font-weight: bold;display: inline-block;line-height: 1.2em;}#sk-container-id-3 div.sk-label-container {text-align: center;}#sk-container-id-3 div.sk-container {/* jupyter's `normalize.less` sets `[hidden] { display: none; }` but bootstrap.min.css set `[hidden] { display: none !important; }` so we also need the `!important` here to be able to override the default hidden behavior on the sphinx rendered scikit-learn.org. See: https://github.com/scikit-learn/scikit-learn/issues/21755 */display: inline-block !important;position: relative;}#sk-container-id-3 div.sk-text-repr-fallback {display: none;}</style><div id=\"sk-container-id-3\" class=\"sk-top-container\"><div class=\"sk-text-repr-fallback\"><pre>RandomForestRegressor(min_samples_leaf=4, min_samples_split=10,\n",
       "                      n_estimators=200)</pre><b>In a Jupyter environment, please rerun this cell to show the HTML representation or trust the notebook. <br />On GitHub, the HTML representation is unable to render, please try loading this page with nbviewer.org.</b></div><div class=\"sk-container\" hidden><div class=\"sk-item\"><div class=\"sk-estimator sk-toggleable\"><input class=\"sk-toggleable__control sk-hidden--visually\" id=\"sk-estimator-id-3\" type=\"checkbox\" checked><label for=\"sk-estimator-id-3\" class=\"sk-toggleable__label sk-toggleable__label-arrow\">RandomForestRegressor</label><div class=\"sk-toggleable__content\"><pre>RandomForestRegressor(min_samples_leaf=4, min_samples_split=10,\n",
       "                      n_estimators=200)</pre></div></div></div></div></div>"
      ],
      "text/plain": [
       "RandomForestRegressor(min_samples_leaf=4, min_samples_split=10,\n",
       "                      n_estimators=200)"
      ]
     },
     "execution_count": 78,
     "metadata": {},
     "output_type": "execute_result"
    }
   ],
   "source": [
    "# Final fit\n",
    "model = RandomForestRegressor(\n",
    "    n_estimators=best_params['rf__n_estimators'],  # Replace with your best hyperparameters\n",
    "    max_depth=best_params['rf__max_depth'],\n",
    "    min_samples_split=best_params['rf__min_samples_split'],\n",
    "    min_samples_leaf=best_params['rf__min_samples_leaf']\n",
    ")\n",
    "\n",
    "model.fit(X_train, y_train)  # Replace with your training data"
   ]
  },
  {
   "cell_type": "code",
   "execution_count": 79,
   "metadata": {},
   "outputs": [
    {
     "name": "stdout",
     "output_type": "stream",
     "text": [
      "Mean Squared Error on Test Data: 3487.6648919007657\n"
     ]
    }
   ],
   "source": [
    "y_pred = model.predict(X_test)  # Replace with your testing data\n",
    "mse = mean_squared_error(y_test, y_pred)\n",
    "print(\"Mean Squared Error on Test Data:\", mse)"
   ]
  },
  {
   "cell_type": "code",
   "execution_count": 80,
   "metadata": {},
   "outputs": [
    {
     "name": "stdout",
     "output_type": "stream",
     "text": [
      "Mean Squared Error on Test Data: 4429.25551264716\n"
     ]
    }
   ],
   "source": [
    "from sklearn.ensemble import GradientBoostingRegressor\n",
    "\n",
    "# Initialize the Gradient Boosting Regressor\n",
    "gb_regressor = GradientBoostingRegressor(\n",
    "    n_estimators=100,             # Number of boosting rounds (trees)\n",
    "    max_depth=3,                  # Maximum tree depth\n",
    "    learning_rate=0.1,            # Learning rate\n",
    "    random_state=42               # Random seed for reproducibility\n",
    ")\n",
    "\n",
    "# Fit the model to your training data\n",
    "gb_regressor.fit(X_train, y_train)\n",
    "\n",
    "# Evaluate the model's performance on the test data (optional)\n",
    "y_pred = gb_regressor.predict(X_test)\n",
    "mse = mean_squared_error(y_test, y_pred)\n",
    "print(\"Mean Squared Error on Test Data:\", mse)"
   ]
  },
  {
   "cell_type": "code",
   "execution_count": 81,
   "metadata": {},
   "outputs": [
    {
     "name": "stdout",
     "output_type": "stream",
     "text": [
      "Best Parameters: {'learning_rate': 0.005, 'max_depth': 3, 'min_samples_split': 5, 'n_estimators': 300}\n",
      "MSE: 3996.6755068068624\n",
      "R-squared: 0.11321009376888336\n"
     ]
    }
   ],
   "source": [
    "from sklearn.metrics import r2_score\n",
    "\n",
    "# Define parameter grid\n",
    "\n",
    "param_grid = {\n",
    "    'n_estimators': [100, 200, 300],\n",
    "    'learning_rate': [0.005, 0.01, 0.1],\n",
    "    'max_depth': [1, 2, 3],\n",
    "    'min_samples_split': [5, 10, 15],\n",
    "}\n",
    "\n",
    "# Perfrom grid search\n",
    "\n",
    "grid_search = GridSearchCV(estimator=GradientBoostingRegressor(),\n",
    "                           param_grid=param_grid,\n",
    "                           scoring='neg_mean_squared_error',  # Use negative mean squared error for regression\n",
    "                           cv=5,  # Cross-validation folds\n",
    "                           n_jobs=-1)  # Use all available CPU cores\n",
    "\n",
    "\n",
    "grid_search.fit(X_train, y_train)\n",
    "best_params = grid_search.best_params_\n",
    "model = grid_search.best_estimator_\n",
    "\n",
    "y_pred = model.predict(X_test)\n",
    "mse = mean_squared_error(y_test, y_pred)\n",
    "r2 = r2_score(y_test, y_pred)\n",
    "print(f'Best Parameters: {best_params}')\n",
    "print(f'MSE: {mse}')\n",
    "print(f'R-squared: {r2}')"
   ]
  },
  {
   "cell_type": "markdown",
   "metadata": {},
   "source": [
    "Able to account for around 33% of explained variance"
   ]
  },
  {
   "cell_type": "code",
   "execution_count": 62,
   "metadata": {},
   "outputs": [],
   "source": [
    "# model.fit(X, y)"
   ]
  },
  {
   "cell_type": "code",
   "execution_count": 63,
   "metadata": {},
   "outputs": [],
   "source": [
    "# pca = PCA(n_components=20)\n",
    "# X_pca = pca.fit_transform(X)\n",
    "\n",
    "# X_pca"
   ]
  },
  {
   "cell_type": "code",
   "execution_count": 64,
   "metadata": {},
   "outputs": [],
   "source": [
    "# # Create a DataFrame for the principal components\n",
    "# pca_df = pd.DataFrame(data=X_pca, columns=[f'PC{i+1}' for i in range(20)])\n",
    "\n",
    "# # Concatenate the PCA DataFrame with your original DataFrame X\n",
    "# X_with_pca = pd.concat([X, pca_df], axis=1)\n",
    "\n",
    "# X_with_pca"
   ]
  },
  {
   "cell_type": "markdown",
   "metadata": {},
   "source": [
    "## Gradient Boosting Regressor"
   ]
  },
  {
   "cell_type": "code",
   "execution_count": 3,
   "metadata": {},
   "outputs": [],
   "source": [
    "from sklearn.preprocessing import StandardScaler\n",
    "from sklearn.model_selection import train_test_split\n",
    "\n",
    "X = df.drop(columns=(['id', 'y']))\n",
    "y = df['y']\n",
    "\n",
    "X_train, X_test, y_train, y_test = train_test_split(X, y, test_size=0.2, random_state=23)\n",
    "\n",
    "sc = StandardScaler()\n",
    "X_train = sc.fit_transform(X_train)\n",
    "X_test = sc.transform(X_test)"
   ]
  },
  {
   "cell_type": "code",
   "execution_count": 4,
   "metadata": {},
   "outputs": [
    {
     "ename": "KeyboardInterrupt",
     "evalue": "",
     "output_type": "error",
     "traceback": [
      "\u001b[0;31m---------------------------------------------------------------------------\u001b[0m",
      "\u001b[0;31mKeyboardInterrupt\u001b[0m                         Traceback (most recent call last)",
      "\u001b[0;32m<ipython-input-4-74a91baef141>\u001b[0m in \u001b[0;36m<module>\u001b[0;34m\u001b[0m\n\u001b[1;32m     21\u001b[0m \u001b[0;34m\u001b[0m\u001b[0m\n\u001b[1;32m     22\u001b[0m \u001b[0;34m\u001b[0m\u001b[0m\n\u001b[0;32m---> 23\u001b[0;31m \u001b[0mgrid_search\u001b[0m\u001b[0;34m.\u001b[0m\u001b[0mfit\u001b[0m\u001b[0;34m(\u001b[0m\u001b[0mX_train\u001b[0m\u001b[0;34m,\u001b[0m \u001b[0my_train\u001b[0m\u001b[0;34m)\u001b[0m\u001b[0;34m\u001b[0m\u001b[0;34m\u001b[0m\u001b[0m\n\u001b[0m\u001b[1;32m     24\u001b[0m \u001b[0mbest_params\u001b[0m \u001b[0;34m=\u001b[0m \u001b[0mgrid_search\u001b[0m\u001b[0;34m.\u001b[0m\u001b[0mbest_params_\u001b[0m\u001b[0;34m\u001b[0m\u001b[0;34m\u001b[0m\u001b[0m\n\u001b[1;32m     25\u001b[0m \u001b[0mmodel\u001b[0m \u001b[0;34m=\u001b[0m \u001b[0mgrid_search\u001b[0m\u001b[0;34m.\u001b[0m\u001b[0mbest_estimator_\u001b[0m\u001b[0;34m\u001b[0m\u001b[0;34m\u001b[0m\u001b[0m\n",
      "\u001b[0;32m~/opt/anaconda3/lib/python3.8/site-packages/sklearn/model_selection/_search.py\u001b[0m in \u001b[0;36mfit\u001b[0;34m(self, X, y, groups, **fit_params)\u001b[0m\n\u001b[1;32m    872\u001b[0m                 \u001b[0;32mreturn\u001b[0m \u001b[0mresults\u001b[0m\u001b[0;34m\u001b[0m\u001b[0;34m\u001b[0m\u001b[0m\n\u001b[1;32m    873\u001b[0m \u001b[0;34m\u001b[0m\u001b[0m\n\u001b[0;32m--> 874\u001b[0;31m             \u001b[0mself\u001b[0m\u001b[0;34m.\u001b[0m\u001b[0m_run_search\u001b[0m\u001b[0;34m(\u001b[0m\u001b[0mevaluate_candidates\u001b[0m\u001b[0;34m)\u001b[0m\u001b[0;34m\u001b[0m\u001b[0;34m\u001b[0m\u001b[0m\n\u001b[0m\u001b[1;32m    875\u001b[0m \u001b[0;34m\u001b[0m\u001b[0m\n\u001b[1;32m    876\u001b[0m             \u001b[0;31m# multimetric is determined here because in the case of a callable\u001b[0m\u001b[0;34m\u001b[0m\u001b[0;34m\u001b[0m\u001b[0;34m\u001b[0m\u001b[0m\n",
      "\u001b[0;32m~/opt/anaconda3/lib/python3.8/site-packages/sklearn/model_selection/_search.py\u001b[0m in \u001b[0;36m_run_search\u001b[0;34m(self, evaluate_candidates)\u001b[0m\n\u001b[1;32m   1386\u001b[0m     \u001b[0;32mdef\u001b[0m \u001b[0m_run_search\u001b[0m\u001b[0;34m(\u001b[0m\u001b[0mself\u001b[0m\u001b[0;34m,\u001b[0m \u001b[0mevaluate_candidates\u001b[0m\u001b[0;34m)\u001b[0m\u001b[0;34m:\u001b[0m\u001b[0;34m\u001b[0m\u001b[0;34m\u001b[0m\u001b[0m\n\u001b[1;32m   1387\u001b[0m         \u001b[0;34m\"\"\"Search all candidates in param_grid\"\"\"\u001b[0m\u001b[0;34m\u001b[0m\u001b[0;34m\u001b[0m\u001b[0m\n\u001b[0;32m-> 1388\u001b[0;31m         \u001b[0mevaluate_candidates\u001b[0m\u001b[0;34m(\u001b[0m\u001b[0mParameterGrid\u001b[0m\u001b[0;34m(\u001b[0m\u001b[0mself\u001b[0m\u001b[0;34m.\u001b[0m\u001b[0mparam_grid\u001b[0m\u001b[0;34m)\u001b[0m\u001b[0;34m)\u001b[0m\u001b[0;34m\u001b[0m\u001b[0;34m\u001b[0m\u001b[0m\n\u001b[0m\u001b[1;32m   1389\u001b[0m \u001b[0;34m\u001b[0m\u001b[0m\n\u001b[1;32m   1390\u001b[0m \u001b[0;34m\u001b[0m\u001b[0m\n",
      "\u001b[0;32m~/opt/anaconda3/lib/python3.8/site-packages/sklearn/model_selection/_search.py\u001b[0m in \u001b[0;36mevaluate_candidates\u001b[0;34m(candidate_params, cv, more_results)\u001b[0m\n\u001b[1;32m    819\u001b[0m                     )\n\u001b[1;32m    820\u001b[0m \u001b[0;34m\u001b[0m\u001b[0m\n\u001b[0;32m--> 821\u001b[0;31m                 out = parallel(\n\u001b[0m\u001b[1;32m    822\u001b[0m                     delayed(_fit_and_score)(\n\u001b[1;32m    823\u001b[0m                         \u001b[0mclone\u001b[0m\u001b[0;34m(\u001b[0m\u001b[0mbase_estimator\u001b[0m\u001b[0;34m)\u001b[0m\u001b[0;34m,\u001b[0m\u001b[0;34m\u001b[0m\u001b[0;34m\u001b[0m\u001b[0m\n",
      "\u001b[0;32m~/opt/anaconda3/lib/python3.8/site-packages/sklearn/utils/parallel.py\u001b[0m in \u001b[0;36m__call__\u001b[0;34m(self, iterable)\u001b[0m\n\u001b[1;32m     61\u001b[0m             \u001b[0;32mfor\u001b[0m \u001b[0mdelayed_func\u001b[0m\u001b[0;34m,\u001b[0m \u001b[0margs\u001b[0m\u001b[0;34m,\u001b[0m \u001b[0mkwargs\u001b[0m \u001b[0;32min\u001b[0m \u001b[0miterable\u001b[0m\u001b[0;34m\u001b[0m\u001b[0;34m\u001b[0m\u001b[0m\n\u001b[1;32m     62\u001b[0m         )\n\u001b[0;32m---> 63\u001b[0;31m         \u001b[0;32mreturn\u001b[0m \u001b[0msuper\u001b[0m\u001b[0;34m(\u001b[0m\u001b[0;34m)\u001b[0m\u001b[0;34m.\u001b[0m\u001b[0m__call__\u001b[0m\u001b[0;34m(\u001b[0m\u001b[0miterable_with_config\u001b[0m\u001b[0;34m)\u001b[0m\u001b[0;34m\u001b[0m\u001b[0;34m\u001b[0m\u001b[0m\n\u001b[0m\u001b[1;32m     64\u001b[0m \u001b[0;34m\u001b[0m\u001b[0m\n\u001b[1;32m     65\u001b[0m \u001b[0;34m\u001b[0m\u001b[0m\n",
      "\u001b[0;32m~/opt/anaconda3/lib/python3.8/site-packages/joblib/parallel.py\u001b[0m in \u001b[0;36m__call__\u001b[0;34m(self, iterable)\u001b[0m\n\u001b[1;32m   1096\u001b[0m \u001b[0;34m\u001b[0m\u001b[0m\n\u001b[1;32m   1097\u001b[0m             \u001b[0;32mwith\u001b[0m \u001b[0mself\u001b[0m\u001b[0;34m.\u001b[0m\u001b[0m_backend\u001b[0m\u001b[0;34m.\u001b[0m\u001b[0mretrieval_context\u001b[0m\u001b[0;34m(\u001b[0m\u001b[0;34m)\u001b[0m\u001b[0;34m:\u001b[0m\u001b[0;34m\u001b[0m\u001b[0;34m\u001b[0m\u001b[0m\n\u001b[0;32m-> 1098\u001b[0;31m                 \u001b[0mself\u001b[0m\u001b[0;34m.\u001b[0m\u001b[0mretrieve\u001b[0m\u001b[0;34m(\u001b[0m\u001b[0;34m)\u001b[0m\u001b[0;34m\u001b[0m\u001b[0;34m\u001b[0m\u001b[0m\n\u001b[0m\u001b[1;32m   1099\u001b[0m             \u001b[0;31m# Make sure that we get a last message telling us we are done\u001b[0m\u001b[0;34m\u001b[0m\u001b[0;34m\u001b[0m\u001b[0;34m\u001b[0m\u001b[0m\n\u001b[1;32m   1100\u001b[0m             \u001b[0melapsed_time\u001b[0m \u001b[0;34m=\u001b[0m \u001b[0mtime\u001b[0m\u001b[0;34m.\u001b[0m\u001b[0mtime\u001b[0m\u001b[0;34m(\u001b[0m\u001b[0;34m)\u001b[0m \u001b[0;34m-\u001b[0m \u001b[0mself\u001b[0m\u001b[0;34m.\u001b[0m\u001b[0m_start_time\u001b[0m\u001b[0;34m\u001b[0m\u001b[0;34m\u001b[0m\u001b[0m\n",
      "\u001b[0;32m~/opt/anaconda3/lib/python3.8/site-packages/joblib/parallel.py\u001b[0m in \u001b[0;36mretrieve\u001b[0;34m(self)\u001b[0m\n\u001b[1;32m    973\u001b[0m             \u001b[0;32mtry\u001b[0m\u001b[0;34m:\u001b[0m\u001b[0;34m\u001b[0m\u001b[0;34m\u001b[0m\u001b[0m\n\u001b[1;32m    974\u001b[0m                 \u001b[0;32mif\u001b[0m \u001b[0mgetattr\u001b[0m\u001b[0;34m(\u001b[0m\u001b[0mself\u001b[0m\u001b[0;34m.\u001b[0m\u001b[0m_backend\u001b[0m\u001b[0;34m,\u001b[0m \u001b[0;34m'supports_timeout'\u001b[0m\u001b[0;34m,\u001b[0m \u001b[0;32mFalse\u001b[0m\u001b[0;34m)\u001b[0m\u001b[0;34m:\u001b[0m\u001b[0;34m\u001b[0m\u001b[0;34m\u001b[0m\u001b[0m\n\u001b[0;32m--> 975\u001b[0;31m                     \u001b[0mself\u001b[0m\u001b[0;34m.\u001b[0m\u001b[0m_output\u001b[0m\u001b[0;34m.\u001b[0m\u001b[0mextend\u001b[0m\u001b[0;34m(\u001b[0m\u001b[0mjob\u001b[0m\u001b[0;34m.\u001b[0m\u001b[0mget\u001b[0m\u001b[0;34m(\u001b[0m\u001b[0mtimeout\u001b[0m\u001b[0;34m=\u001b[0m\u001b[0mself\u001b[0m\u001b[0;34m.\u001b[0m\u001b[0mtimeout\u001b[0m\u001b[0;34m)\u001b[0m\u001b[0;34m)\u001b[0m\u001b[0;34m\u001b[0m\u001b[0;34m\u001b[0m\u001b[0m\n\u001b[0m\u001b[1;32m    976\u001b[0m                 \u001b[0;32melse\u001b[0m\u001b[0;34m:\u001b[0m\u001b[0;34m\u001b[0m\u001b[0;34m\u001b[0m\u001b[0m\n\u001b[1;32m    977\u001b[0m                     \u001b[0mself\u001b[0m\u001b[0;34m.\u001b[0m\u001b[0m_output\u001b[0m\u001b[0;34m.\u001b[0m\u001b[0mextend\u001b[0m\u001b[0;34m(\u001b[0m\u001b[0mjob\u001b[0m\u001b[0;34m.\u001b[0m\u001b[0mget\u001b[0m\u001b[0;34m(\u001b[0m\u001b[0;34m)\u001b[0m\u001b[0;34m)\u001b[0m\u001b[0;34m\u001b[0m\u001b[0;34m\u001b[0m\u001b[0m\n",
      "\u001b[0;32m~/opt/anaconda3/lib/python3.8/site-packages/joblib/_parallel_backends.py\u001b[0m in \u001b[0;36mwrap_future_result\u001b[0;34m(future, timeout)\u001b[0m\n\u001b[1;32m    565\u001b[0m         AsyncResults.get from multiprocessing.\"\"\"\n\u001b[1;32m    566\u001b[0m         \u001b[0;32mtry\u001b[0m\u001b[0;34m:\u001b[0m\u001b[0;34m\u001b[0m\u001b[0;34m\u001b[0m\u001b[0m\n\u001b[0;32m--> 567\u001b[0;31m             \u001b[0;32mreturn\u001b[0m \u001b[0mfuture\u001b[0m\u001b[0;34m.\u001b[0m\u001b[0mresult\u001b[0m\u001b[0;34m(\u001b[0m\u001b[0mtimeout\u001b[0m\u001b[0;34m=\u001b[0m\u001b[0mtimeout\u001b[0m\u001b[0;34m)\u001b[0m\u001b[0;34m\u001b[0m\u001b[0;34m\u001b[0m\u001b[0m\n\u001b[0m\u001b[1;32m    568\u001b[0m         \u001b[0;32mexcept\u001b[0m \u001b[0mCfTimeoutError\u001b[0m \u001b[0;32mas\u001b[0m \u001b[0me\u001b[0m\u001b[0;34m:\u001b[0m\u001b[0;34m\u001b[0m\u001b[0;34m\u001b[0m\u001b[0m\n\u001b[1;32m    569\u001b[0m             \u001b[0;32mraise\u001b[0m \u001b[0mTimeoutError\u001b[0m \u001b[0;32mfrom\u001b[0m \u001b[0me\u001b[0m\u001b[0;34m\u001b[0m\u001b[0;34m\u001b[0m\u001b[0m\n",
      "\u001b[0;32m~/opt/anaconda3/lib/python3.8/concurrent/futures/_base.py\u001b[0m in \u001b[0;36mresult\u001b[0;34m(self, timeout)\u001b[0m\n\u001b[1;32m    432\u001b[0m                 \u001b[0;32mreturn\u001b[0m \u001b[0mself\u001b[0m\u001b[0;34m.\u001b[0m\u001b[0m__get_result\u001b[0m\u001b[0;34m(\u001b[0m\u001b[0;34m)\u001b[0m\u001b[0;34m\u001b[0m\u001b[0;34m\u001b[0m\u001b[0m\n\u001b[1;32m    433\u001b[0m \u001b[0;34m\u001b[0m\u001b[0m\n\u001b[0;32m--> 434\u001b[0;31m             \u001b[0mself\u001b[0m\u001b[0;34m.\u001b[0m\u001b[0m_condition\u001b[0m\u001b[0;34m.\u001b[0m\u001b[0mwait\u001b[0m\u001b[0;34m(\u001b[0m\u001b[0mtimeout\u001b[0m\u001b[0;34m)\u001b[0m\u001b[0;34m\u001b[0m\u001b[0;34m\u001b[0m\u001b[0m\n\u001b[0m\u001b[1;32m    435\u001b[0m \u001b[0;34m\u001b[0m\u001b[0m\n\u001b[1;32m    436\u001b[0m             \u001b[0;32mif\u001b[0m \u001b[0mself\u001b[0m\u001b[0;34m.\u001b[0m\u001b[0m_state\u001b[0m \u001b[0;32min\u001b[0m \u001b[0;34m[\u001b[0m\u001b[0mCANCELLED\u001b[0m\u001b[0;34m,\u001b[0m \u001b[0mCANCELLED_AND_NOTIFIED\u001b[0m\u001b[0;34m]\u001b[0m\u001b[0;34m:\u001b[0m\u001b[0;34m\u001b[0m\u001b[0;34m\u001b[0m\u001b[0m\n",
      "\u001b[0;32m~/opt/anaconda3/lib/python3.8/threading.py\u001b[0m in \u001b[0;36mwait\u001b[0;34m(self, timeout)\u001b[0m\n\u001b[1;32m    300\u001b[0m         \u001b[0;32mtry\u001b[0m\u001b[0;34m:\u001b[0m    \u001b[0;31m# restore state no matter what (e.g., KeyboardInterrupt)\u001b[0m\u001b[0;34m\u001b[0m\u001b[0;34m\u001b[0m\u001b[0m\n\u001b[1;32m    301\u001b[0m             \u001b[0;32mif\u001b[0m \u001b[0mtimeout\u001b[0m \u001b[0;32mis\u001b[0m \u001b[0;32mNone\u001b[0m\u001b[0;34m:\u001b[0m\u001b[0;34m\u001b[0m\u001b[0;34m\u001b[0m\u001b[0m\n\u001b[0;32m--> 302\u001b[0;31m                 \u001b[0mwaiter\u001b[0m\u001b[0;34m.\u001b[0m\u001b[0macquire\u001b[0m\u001b[0;34m(\u001b[0m\u001b[0;34m)\u001b[0m\u001b[0;34m\u001b[0m\u001b[0;34m\u001b[0m\u001b[0m\n\u001b[0m\u001b[1;32m    303\u001b[0m                 \u001b[0mgotit\u001b[0m \u001b[0;34m=\u001b[0m \u001b[0;32mTrue\u001b[0m\u001b[0;34m\u001b[0m\u001b[0;34m\u001b[0m\u001b[0m\n\u001b[1;32m    304\u001b[0m             \u001b[0;32melse\u001b[0m\u001b[0;34m:\u001b[0m\u001b[0;34m\u001b[0m\u001b[0;34m\u001b[0m\u001b[0m\n",
      "\u001b[0;31mKeyboardInterrupt\u001b[0m: "
     ]
    }
   ],
   "source": [
    "# from sklearn.ensemble import GradientBoostingRegressor\n",
    "# from sklearn.model_selection import GridSearchCV\n",
    "# from sklearn.metrics import mean_squared_error, r2_score\n",
    "\n",
    "# # Define parameter grid\n",
    "\n",
    "# param_grid = {\n",
    "#     'n_estimators': [200, 300, 400],\n",
    "#     'learning_rate': [0.005, 0.01, 0.1],\n",
    "#     'max_depth': [1, 2, 3],\n",
    "#     'min_samples_split': [5, 10, 15],\n",
    "# }\n",
    "\n",
    "# # Perfrom grid search\n",
    "\n",
    "# grid_search = GridSearchCV(estimator=GradientBoostingRegressor(),\n",
    "#                            param_grid=param_grid,\n",
    "#                            scoring='neg_mean_squared_error',  # Use negative mean squared error for regression\n",
    "#                            cv=5,  # Cross-validation folds\n",
    "#                            n_jobs=-1)  # Use all available CPU cores\n",
    "\n",
    "\n",
    "# grid_search.fit(X_train, y_train)\n",
    "# best_params = grid_search.best_params_\n",
    "# model = grid_search.best_estimator_\n",
    "\n",
    "# y_pred = model.predict(X_test)\n",
    "# mse = mean_squared_error(y_test, y_pred)\n",
    "# r2 = r2_score(y_test, y_pred)\n",
    "# print(f'Best Parameters: {best_params}')\n",
    "# print(f'MSE: {mse}')\n",
    "# print(f'R-squared: {r2}')"
   ]
  },
  {
   "cell_type": "markdown",
   "metadata": {},
   "source": [
    "### GBR Feature Selection"
   ]
  },
  {
   "cell_type": "code",
   "execution_count": 118,
   "metadata": {},
   "outputs": [
    {
     "name": "stdout",
     "output_type": "stream",
     "text": [
      "   Feature  Importance\n",
      "8    Col 9    0.326370\n",
      "2    Col 3    0.274193\n",
      "36  Col 37    0.046811\n",
      "3    Col 4    0.043444\n",
      "55  Col 56    0.041974\n",
      "..     ...         ...\n",
      "26  Col 27    0.000000\n",
      "13  Col 14    0.000000\n",
      "20  Col 21    0.000000\n",
      "17  Col 18    0.000000\n",
      "0    Col 1    0.000000\n",
      "\n",
      "[64 rows x 2 columns]\n"
     ]
    }
   ],
   "source": [
    "# # Look into feature importances\n",
    "\n",
    "# # Access feature importances\n",
    "# feature_importances = model.feature_importances_\n",
    "\n",
    "# # Create a DataFrame to display feature names and their importances\n",
    "# feature_names = X.columns  # Assuming X is your feature matrix\n",
    "# feature_importance_df = pd.DataFrame({'Feature': feature_names, 'Importance': feature_importances})\n",
    "\n",
    "# # Sort the features by importance in descending order\n",
    "# feature_importance_df = feature_importance_df.sort_values(by='Importance', ascending=False)\n",
    "\n",
    "# # Print or visualize the feature importance information\n",
    "# print(feature_importance_df)"
   ]
  },
  {
   "cell_type": "markdown",
   "metadata": {},
   "source": [
    "We see that many features have 0 feature importance based upon our gradientboostingregressor feature importance output. Let's remove them"
   ]
  },
  {
   "cell_type": "code",
   "execution_count": 119,
   "metadata": {},
   "outputs": [
    {
     "data": {
      "text/html": [
       "<div>\n",
       "<style scoped>\n",
       "    .dataframe tbody tr th:only-of-type {\n",
       "        vertical-align: middle;\n",
       "    }\n",
       "\n",
       "    .dataframe tbody tr th {\n",
       "        vertical-align: top;\n",
       "    }\n",
       "\n",
       "    .dataframe thead th {\n",
       "        text-align: right;\n",
       "    }\n",
       "</style>\n",
       "<table border=\"1\" class=\"dataframe\">\n",
       "  <thead>\n",
       "    <tr style=\"text-align: right;\">\n",
       "      <th></th>\n",
       "      <th>Col 2</th>\n",
       "      <th>Col 3</th>\n",
       "      <th>Col 4</th>\n",
       "      <th>Col 5</th>\n",
       "      <th>Col 6</th>\n",
       "      <th>Col 7</th>\n",
       "      <th>Col 8</th>\n",
       "      <th>Col 9</th>\n",
       "      <th>Col 10</th>\n",
       "      <th>Col 12</th>\n",
       "      <th>...</th>\n",
       "      <th>Col 52</th>\n",
       "      <th>Col 53</th>\n",
       "      <th>Col 56</th>\n",
       "      <th>Col 57</th>\n",
       "      <th>Col 58</th>\n",
       "      <th>Col 59</th>\n",
       "      <th>Col 60</th>\n",
       "      <th>Col 61</th>\n",
       "      <th>Col 63</th>\n",
       "      <th>Col 64</th>\n",
       "    </tr>\n",
       "  </thead>\n",
       "  <tbody>\n",
       "    <tr>\n",
       "      <th>0</th>\n",
       "      <td>0.050680</td>\n",
       "      <td>0.061696</td>\n",
       "      <td>0.021872</td>\n",
       "      <td>-0.044223</td>\n",
       "      <td>-0.034821</td>\n",
       "      <td>-0.043401</td>\n",
       "      <td>-0.002592</td>\n",
       "      <td>0.019908</td>\n",
       "      <td>-0.017646</td>\n",
       "      <td>0.022505</td>\n",
       "      <td>...</td>\n",
       "      <td>-0.019303</td>\n",
       "      <td>-0.042892</td>\n",
       "      <td>-0.022038</td>\n",
       "      <td>-0.031125</td>\n",
       "      <td>-0.000922</td>\n",
       "      <td>0.033494</td>\n",
       "      <td>0.000852</td>\n",
       "      <td>0.031150</td>\n",
       "      <td>-0.017658</td>\n",
       "      <td>-0.027794</td>\n",
       "    </tr>\n",
       "    <tr>\n",
       "      <th>1</th>\n",
       "      <td>-0.044642</td>\n",
       "      <td>-0.051474</td>\n",
       "      <td>-0.026328</td>\n",
       "      <td>-0.008449</td>\n",
       "      <td>-0.019163</td>\n",
       "      <td>0.074412</td>\n",
       "      <td>-0.039493</td>\n",
       "      <td>-0.068330</td>\n",
       "      <td>-0.092204</td>\n",
       "      <td>0.005643</td>\n",
       "      <td>...</td>\n",
       "      <td>-0.015501</td>\n",
       "      <td>-0.012343</td>\n",
       "      <td>-0.011564</td>\n",
       "      <td>0.012973</td>\n",
       "      <td>0.023783</td>\n",
       "      <td>-0.023815</td>\n",
       "      <td>-0.094506</td>\n",
       "      <td>-0.140378</td>\n",
       "      <td>0.053034</td>\n",
       "      <td>0.104013</td>\n",
       "    </tr>\n",
       "    <tr>\n",
       "      <th>2</th>\n",
       "      <td>0.050680</td>\n",
       "      <td>0.044451</td>\n",
       "      <td>-0.005671</td>\n",
       "      <td>-0.045599</td>\n",
       "      <td>-0.034194</td>\n",
       "      <td>-0.032356</td>\n",
       "      <td>-0.002592</td>\n",
       "      <td>0.002864</td>\n",
       "      <td>-0.025930</td>\n",
       "      <td>-0.004176</td>\n",
       "      <td>...</td>\n",
       "      <td>-0.019241</td>\n",
       "      <td>-0.027178</td>\n",
       "      <td>-0.022063</td>\n",
       "      <td>-0.018016</td>\n",
       "      <td>0.004913</td>\n",
       "      <td>0.032956</td>\n",
       "      <td>0.018281</td>\n",
       "      <td>0.032795</td>\n",
       "      <td>-0.017236</td>\n",
       "      <td>-0.022304</td>\n",
       "    </tr>\n",
       "    <tr>\n",
       "      <th>3</th>\n",
       "      <td>-0.044642</td>\n",
       "      <td>-0.011595</td>\n",
       "      <td>-0.036656</td>\n",
       "      <td>0.012191</td>\n",
       "      <td>0.024991</td>\n",
       "      <td>-0.036038</td>\n",
       "      <td>0.034309</td>\n",
       "      <td>0.022692</td>\n",
       "      <td>-0.009362</td>\n",
       "      <td>-0.031017</td>\n",
       "      <td>...</td>\n",
       "      <td>-0.014033</td>\n",
       "      <td>-0.018644</td>\n",
       "      <td>-0.009984</td>\n",
       "      <td>-0.003373</td>\n",
       "      <td>-0.019109</td>\n",
       "      <td>0.008159</td>\n",
       "      <td>0.001898</td>\n",
       "      <td>0.021514</td>\n",
       "      <td>-0.024872</td>\n",
       "      <td>-0.025042</td>\n",
       "    </tr>\n",
       "    <tr>\n",
       "      <th>4</th>\n",
       "      <td>-0.044642</td>\n",
       "      <td>-0.036385</td>\n",
       "      <td>0.021872</td>\n",
       "      <td>0.003935</td>\n",
       "      <td>0.015596</td>\n",
       "      <td>0.008142</td>\n",
       "      <td>-0.002592</td>\n",
       "      <td>-0.031991</td>\n",
       "      <td>-0.046641</td>\n",
       "      <td>-0.013681</td>\n",
       "      <td>...</td>\n",
       "      <td>-0.021470</td>\n",
       "      <td>-0.027079</td>\n",
       "      <td>-0.024091</td>\n",
       "      <td>-0.026846</td>\n",
       "      <td>-0.029687</td>\n",
       "      <td>0.030984</td>\n",
       "      <td>0.014489</td>\n",
       "      <td>0.005386</td>\n",
       "      <td>-0.016180</td>\n",
       "      <td>0.008735</td>\n",
       "    </tr>\n",
       "    <tr>\n",
       "      <th>...</th>\n",
       "      <td>...</td>\n",
       "      <td>...</td>\n",
       "      <td>...</td>\n",
       "      <td>...</td>\n",
       "      <td>...</td>\n",
       "      <td>...</td>\n",
       "      <td>...</td>\n",
       "      <td>...</td>\n",
       "      <td>...</td>\n",
       "      <td>...</td>\n",
       "      <td>...</td>\n",
       "      <td>...</td>\n",
       "      <td>...</td>\n",
       "      <td>...</td>\n",
       "      <td>...</td>\n",
       "      <td>...</td>\n",
       "      <td>...</td>\n",
       "      <td>...</td>\n",
       "      <td>...</td>\n",
       "      <td>...</td>\n",
       "      <td>...</td>\n",
       "    </tr>\n",
       "    <tr>\n",
       "      <th>155</th>\n",
       "      <td>0.050680</td>\n",
       "      <td>0.060618</td>\n",
       "      <td>0.049415</td>\n",
       "      <td>0.085116</td>\n",
       "      <td>0.086368</td>\n",
       "      <td>-0.002903</td>\n",
       "      <td>0.034309</td>\n",
       "      <td>0.037814</td>\n",
       "      <td>0.048628</td>\n",
       "      <td>0.020583</td>\n",
       "      <td>...</td>\n",
       "      <td>0.029396</td>\n",
       "      <td>0.043009</td>\n",
       "      <td>0.023104</td>\n",
       "      <td>0.056056</td>\n",
       "      <td>0.075937</td>\n",
       "      <td>0.029510</td>\n",
       "      <td>0.017894</td>\n",
       "      <td>0.010752</td>\n",
       "      <td>0.014242</td>\n",
       "      <td>0.015606</td>\n",
       "    </tr>\n",
       "    <tr>\n",
       "      <th>156</th>\n",
       "      <td>-0.044642</td>\n",
       "      <td>-0.010517</td>\n",
       "      <td>0.001215</td>\n",
       "      <td>-0.037344</td>\n",
       "      <td>-0.035760</td>\n",
       "      <td>0.011824</td>\n",
       "      <td>-0.039493</td>\n",
       "      <td>-0.021394</td>\n",
       "      <td>-0.034215</td>\n",
       "      <td>-0.031364</td>\n",
       "      <td>...</td>\n",
       "      <td>0.004307</td>\n",
       "      <td>-0.007699</td>\n",
       "      <td>-0.001265</td>\n",
       "      <td>0.000986</td>\n",
       "      <td>0.012134</td>\n",
       "      <td>0.022610</td>\n",
       "      <td>0.014659</td>\n",
       "      <td>0.004828</td>\n",
       "      <td>0.008008</td>\n",
       "      <td>-0.006328</td>\n",
       "    </tr>\n",
       "    <tr>\n",
       "      <th>157</th>\n",
       "      <td>0.050680</td>\n",
       "      <td>-0.033151</td>\n",
       "      <td>-0.018294</td>\n",
       "      <td>0.031454</td>\n",
       "      <td>0.042840</td>\n",
       "      <td>-0.013948</td>\n",
       "      <td>0.019917</td>\n",
       "      <td>0.010226</td>\n",
       "      <td>0.027917</td>\n",
       "      <td>-0.016958</td>\n",
       "      <td>...</td>\n",
       "      <td>-0.010419</td>\n",
       "      <td>-0.017701</td>\n",
       "      <td>-0.010049</td>\n",
       "      <td>-0.006214</td>\n",
       "      <td>0.011544</td>\n",
       "      <td>0.026163</td>\n",
       "      <td>0.017152</td>\n",
       "      <td>0.005169</td>\n",
       "      <td>-0.007626</td>\n",
       "      <td>-0.015175</td>\n",
       "    </tr>\n",
       "    <tr>\n",
       "      <th>158</th>\n",
       "      <td>-0.044642</td>\n",
       "      <td>-0.065486</td>\n",
       "      <td>-0.069938</td>\n",
       "      <td>0.001183</td>\n",
       "      <td>0.016849</td>\n",
       "      <td>-0.002903</td>\n",
       "      <td>-0.007020</td>\n",
       "      <td>-0.030751</td>\n",
       "      <td>-0.050783</td>\n",
       "      <td>0.029529</td>\n",
       "      <td>...</td>\n",
       "      <td>-0.021437</td>\n",
       "      <td>-0.025203</td>\n",
       "      <td>-0.025315</td>\n",
       "      <td>-0.027269</td>\n",
       "      <td>-0.032436</td>\n",
       "      <td>0.031763</td>\n",
       "      <td>0.022391</td>\n",
       "      <td>0.017242</td>\n",
       "      <td>-0.011548</td>\n",
       "      <td>0.010113</td>\n",
       "    </tr>\n",
       "    <tr>\n",
       "      <th>159</th>\n",
       "      <td>-0.044642</td>\n",
       "      <td>0.043373</td>\n",
       "      <td>0.087287</td>\n",
       "      <td>0.013567</td>\n",
       "      <td>0.007141</td>\n",
       "      <td>-0.013948</td>\n",
       "      <td>-0.002592</td>\n",
       "      <td>0.042345</td>\n",
       "      <td>-0.017646</td>\n",
       "      <td>-0.005556</td>\n",
       "      <td>...</td>\n",
       "      <td>-0.021903</td>\n",
       "      <td>-0.012402</td>\n",
       "      <td>-0.023747</td>\n",
       "      <td>-0.009201</td>\n",
       "      <td>-0.016795</td>\n",
       "      <td>0.032060</td>\n",
       "      <td>0.007030</td>\n",
       "      <td>0.019462</td>\n",
       "      <td>-0.017658</td>\n",
       "      <td>-0.035639</td>\n",
       "    </tr>\n",
       "  </tbody>\n",
       "</table>\n",
       "<p>160 rows × 50 columns</p>\n",
       "</div>"
      ],
      "text/plain": [
       "        Col 2     Col 3     Col 4     Col 5     Col 6     Col 7     Col 8  \\\n",
       "0    0.050680  0.061696  0.021872 -0.044223 -0.034821 -0.043401 -0.002592   \n",
       "1   -0.044642 -0.051474 -0.026328 -0.008449 -0.019163  0.074412 -0.039493   \n",
       "2    0.050680  0.044451 -0.005671 -0.045599 -0.034194 -0.032356 -0.002592   \n",
       "3   -0.044642 -0.011595 -0.036656  0.012191  0.024991 -0.036038  0.034309   \n",
       "4   -0.044642 -0.036385  0.021872  0.003935  0.015596  0.008142 -0.002592   \n",
       "..        ...       ...       ...       ...       ...       ...       ...   \n",
       "155  0.050680  0.060618  0.049415  0.085116  0.086368 -0.002903  0.034309   \n",
       "156 -0.044642 -0.010517  0.001215 -0.037344 -0.035760  0.011824 -0.039493   \n",
       "157  0.050680 -0.033151 -0.018294  0.031454  0.042840 -0.013948  0.019917   \n",
       "158 -0.044642 -0.065486 -0.069938  0.001183  0.016849 -0.002903 -0.007020   \n",
       "159 -0.044642  0.043373  0.087287  0.013567  0.007141 -0.013948 -0.002592   \n",
       "\n",
       "        Col 9    Col 10    Col 12  ...    Col 52    Col 53    Col 56  \\\n",
       "0    0.019908 -0.017646  0.022505  ... -0.019303 -0.042892 -0.022038   \n",
       "1   -0.068330 -0.092204  0.005643  ... -0.015501 -0.012343 -0.011564   \n",
       "2    0.002864 -0.025930 -0.004176  ... -0.019241 -0.027178 -0.022063   \n",
       "3    0.022692 -0.009362 -0.031017  ... -0.014033 -0.018644 -0.009984   \n",
       "4   -0.031991 -0.046641 -0.013681  ... -0.021470 -0.027079 -0.024091   \n",
       "..        ...       ...       ...  ...       ...       ...       ...   \n",
       "155  0.037814  0.048628  0.020583  ...  0.029396  0.043009  0.023104   \n",
       "156 -0.021394 -0.034215 -0.031364  ...  0.004307 -0.007699 -0.001265   \n",
       "157  0.010226  0.027917 -0.016958  ... -0.010419 -0.017701 -0.010049   \n",
       "158 -0.030751 -0.050783  0.029529  ... -0.021437 -0.025203 -0.025315   \n",
       "159  0.042345 -0.017646 -0.005556  ... -0.021903 -0.012402 -0.023747   \n",
       "\n",
       "       Col 57    Col 58    Col 59    Col 60    Col 61    Col 63    Col 64  \n",
       "0   -0.031125 -0.000922  0.033494  0.000852  0.031150 -0.017658 -0.027794  \n",
       "1    0.012973  0.023783 -0.023815 -0.094506 -0.140378  0.053034  0.104013  \n",
       "2   -0.018016  0.004913  0.032956  0.018281  0.032795 -0.017236 -0.022304  \n",
       "3   -0.003373 -0.019109  0.008159  0.001898  0.021514 -0.024872 -0.025042  \n",
       "4   -0.026846 -0.029687  0.030984  0.014489  0.005386 -0.016180  0.008735  \n",
       "..        ...       ...       ...       ...       ...       ...       ...  \n",
       "155  0.056056  0.075937  0.029510  0.017894  0.010752  0.014242  0.015606  \n",
       "156  0.000986  0.012134  0.022610  0.014659  0.004828  0.008008 -0.006328  \n",
       "157 -0.006214  0.011544  0.026163  0.017152  0.005169 -0.007626 -0.015175  \n",
       "158 -0.027269 -0.032436  0.031763  0.022391  0.017242 -0.011548  0.010113  \n",
       "159 -0.009201 -0.016795  0.032060  0.007030  0.019462 -0.017658 -0.035639  \n",
       "\n",
       "[160 rows x 50 columns]"
      ]
     },
     "execution_count": 119,
     "metadata": {},
     "output_type": "execute_result"
    }
   ],
   "source": [
    "# # Create a mask to identify features with non-zero importance\n",
    "# non_zero_importance_mask = feature_importances != 0\n",
    "\n",
    "# # Use the mask to select the relevant features from your feature matrix X\n",
    "# X_reduced = X.loc[:, non_zero_importance_mask]\n",
    "\n",
    "# X_reduced"
   ]
  },
  {
   "cell_type": "code",
   "execution_count": 120,
   "metadata": {},
   "outputs": [],
   "source": [
    "# X_train, X_test, y_train, y_test = train_test_split(X_reduced, y, test_size=0.2, random_state=42)"
   ]
  },
  {
   "cell_type": "code",
   "execution_count": 121,
   "metadata": {},
   "outputs": [
    {
     "name": "stdout",
     "output_type": "stream",
     "text": [
      "Best Parameters: {'learning_rate': 0.01, 'max_depth': 3, 'min_samples_split': 10, 'n_estimators': 300}\n",
      "MSE: 3573.7931682405433\n",
      "R-squared: 0.40821890935367766\n"
     ]
    }
   ],
   "source": [
    "# # Train new model\n",
    "\n",
    "# param_grid = {\n",
    "#     'n_estimators': [200, 300, 400],\n",
    "#     'learning_rate': [0.005, 0.01, 0.1],\n",
    "#     'max_depth': [1, 2, 3],\n",
    "#     'min_samples_split': [5, 10, 15],\n",
    "# }\n",
    "\n",
    "# # Perfrom grid search\n",
    "\n",
    "# grid_search = GridSearchCV(estimator=GradientBoostingRegressor(),\n",
    "#                            param_grid=param_grid,\n",
    "#                            scoring='neg_mean_squared_error',  # Use negative mean squared error for regression\n",
    "#                            cv=5,  # Cross-validation folds\n",
    "#                            n_jobs=-1)  # Use all available CPU cores\n",
    "\n",
    "\n",
    "# grid_search.fit(X_train, y_train)\n",
    "# best_params = grid_search.best_params_\n",
    "# model = grid_search.best_estimator_\n",
    "\n",
    "# y_pred = model.predict(X_test)\n",
    "# mse = mean_squared_error(y_test, y_pred)\n",
    "# r2 = r2_score(y_test, y_pred)\n",
    "# print(f'Best Parameters: {best_params}')\n",
    "# print(f'MSE: {mse}')\n",
    "# print(f'R-squared: {r2}')"
   ]
  },
  {
   "cell_type": "markdown",
   "metadata": {},
   "source": [
    "# Final Model Below"
   ]
  },
  {
   "cell_type": "markdown",
   "metadata": {},
   "source": [
    "### Polynomial Feature Engineering"
   ]
  },
  {
   "cell_type": "code",
   "execution_count": 5,
   "metadata": {},
   "outputs": [
    {
     "data": {
      "image/png": "[encoded data removed]",
      "text/plain": [
       "<Figure size 432x288 with 1 Axes>"
      ]
     },
     "metadata": {
      "needs_background": "light"
     },
     "output_type": "display_data"
    }
   ],
   "source": [
    "plt.scatter(df['id'], df['y'])\n",
    "plt.xlabel('Index')\n",
    "plt.ylabel('y Values')\n",
    "plt.title('Scatter Plot of y Values')\n",
    "plt.show()"
   ]
  },
  {
   "cell_type": "code",
   "execution_count": 21,
   "metadata": {},
   "outputs": [],
   "source": [
    "from sklearn.preprocessing import PolynomialFeatures\n",
    "from sklearn.metrics import make_scorer\n",
    "\n",
    "# For speed\n",
    "from sklearn.model_selection import RandomizedSearchCV\n",
    "\n",
    "# Set a random seed for NumPy and scikit-learn for reproducibility\n",
    "# np.random.seed(42)\n",
    "# random_state = 42\n",
    "\n",
    "# Initialize the PolynomialFeatures transformer\n",
    "poly_features = PolynomialFeatures(degree=2)  # You can choose the desired degree\n",
    "\n",
    "# Preprocess the training data with polynomial features\n",
    "X_train_poly = poly_features.fit_transform(X_train)"
   ]
  },
  {
   "cell_type": "code",
   "execution_count": 163,
   "metadata": {},
   "outputs": [
    {
     "name": "stdout",
     "output_type": "stream",
     "text": [
      "Best Parameters: {'n_estimators': 400, 'min_samples_split': 15, 'max_depth': 3, 'learning_rate': 0.005}\n",
      "MSE: 2471.642519821844\n",
      "R-squared: 0.4757272265102549\n"
     ]
    }
   ],
   "source": [
    "# from sklearn.ensemble import GradientBoostingRegressor\n",
    "# from sklearn.metrics import mean_squared_error, r2_score\n",
    "\n",
    "# # Define the parameter grid for RandomizedSearchCV\n",
    "# param_dist = {\n",
    "#     'n_estimators': np.arange(200, 501, 100),  # Randomly sample from this range\n",
    "#     'learning_rate': [0.005, 0.01, 0.1],\n",
    "#     'max_depth': np.arange(1, 6),  # Randomly sample from this range\n",
    "#     'min_samples_split': np.arange(5, 16),  # Randomly sample from this range\n",
    "# }\n",
    "\n",
    "# # Initialize RandomizedSearchCV\n",
    "# random_search = RandomizedSearchCV(\n",
    "#     estimator=GradientBoostingRegressor(),\n",
    "#     param_distributions=param_dist,\n",
    "#     n_iter=50,  # Number of random combinations to try\n",
    "#     scoring='neg_mean_squared_error',\n",
    "#     cv=5,  # Cross-validation folds\n",
    "#     n_jobs=-1  # Use all available CPU cores\n",
    "#     # random_state = random_state  # Set a random seed\n",
    "# )\n",
    "\n",
    "# # Fit the random search on the preprocessed training data\n",
    "# random_search.fit(X_train_poly, y_train)\n",
    "\n",
    "# best_params = random_search.best_params_\n",
    "# model = random_search.best_estimator_\n",
    "\n",
    "# # Preprocess the test data with polynomial features based on the selected degree\n",
    "# X_test_poly = poly_features.transform(X_test)\n",
    "\n",
    "# # Make predictions with the best model\n",
    "# y_pred = model.predict(X_test_poly)\n",
    "\n",
    "# # Calculate Mean Squared Error (MSE) and R-squared (R2) score\n",
    "# mse = mean_squared_error(y_test, y_pred)\n",
    "# r2 = r2_score(y_test, y_pred)\n",
    "\n",
    "# print(\"Best Parameters:\", best_params)\n",
    "# print(\"MSE:\", mse)\n",
    "# print(\"R-squared:\", r2)"
   ]
  },
  {
   "cell_type": "code",
   "execution_count": 25,
   "metadata": {},
   "outputs": [
    {
     "name": "stdout",
     "output_type": "stream",
     "text": [
      "MSE: 2477.867372223447\n",
      "R-squared: 0.4744068411361645\n"
     ]
    }
   ],
   "source": [
    "params = {'n_estimators':400, 'min_samples_split':15, 'max_depth':3, 'learning_rate':0.005,}\n",
    "\n",
    "from sklearn.ensemble import GradientBoostingRegressor\n",
    "from sklearn.metrics import mean_squared_error, r2_score\n",
    "\n",
    "model = GradientBoostingRegressor(**params)\n",
    "model.fit(X_train_poly, y_train)\n",
    "\n",
    "# Preprocess the test data with polynomial features based on the selected degree\n",
    "X_test_poly = poly_features.transform(X_test)\n",
    "\n",
    "# Make predictions with the best model\n",
    "y_pred = model.predict(X_test_poly)\n",
    "\n",
    "# Calculate Mean Squared Error (MSE) and R-squared (R2) score\n",
    "mse = mean_squared_error(y_test, y_pred)\n",
    "r2 = r2_score(y_test, y_pred)\n",
    "\n",
    "# print(\"Best Parameters:\", best_params)\n",
    "print(\"MSE:\", mse)\n",
    "print(\"R-squared:\", r2)"
   ]
  },
  {
   "cell_type": "markdown",
   "metadata": {},
   "source": [
    "The above model produces MSE of 2469 and R-squared of 0.476"
   ]
  },
  {
   "cell_type": "code",
   "execution_count": 23,
   "metadata": {},
   "outputs": [
    {
     "data": {
      "image/png": "[encoded data removed]",
      "text/plain": [
       "<Figure size 432x432 with 1 Axes>"
      ]
     },
     "metadata": {
      "needs_background": "light"
     },
     "output_type": "display_data"
    }
   ],
   "source": [
    "test_score = np.zeros((params[\"n_estimators\"],), dtype=np.float64)\n",
    "for i, y_pred in enumerate(model.staged_predict(X_test_poly)):\n",
    "    test_score[i] = mean_squared_error(y_test, y_pred)\n",
    "\n",
    "fig = plt.figure(figsize=(6, 6))\n",
    "plt.subplot(1, 1, 1)\n",
    "plt.title(\"Deviance\")\n",
    "plt.plot(\n",
    "    np.arange(params[\"n_estimators\"]) + 1,\n",
    "    model.train_score_,\n",
    "    \"b-\",\n",
    "    label=\"Training Set Deviance\",\n",
    ")\n",
    "plt.plot(\n",
    "    np.arange(params[\"n_estimators\"]) + 1, test_score, \"r-\", label=\"Test Set Deviance\"\n",
    ")\n",
    "plt.legend(loc=\"upper right\")\n",
    "plt.xlabel(\"Boosting Iterations\")\n",
    "plt.ylabel(\"Deviance\")\n",
    "fig.tight_layout()\n",
    "plt.show()"
   ]
  },
  {
   "cell_type": "markdown",
   "metadata": {},
   "source": [
    "Perhaps we should increase our iterations since the test set deviance seems to continue trending downards"
   ]
  },
  {
   "cell_type": "code",
   "execution_count": 24,
   "metadata": {},
   "outputs": [
    {
     "name": "stdout",
     "output_type": "stream",
     "text": [
      "MSE: 2491.39353801375\n",
      "R-squared: 0.4715377367261645\n"
     ]
    }
   ],
   "source": [
    "# params = {'n_estimators':500, 'min_samples_split':15, 'max_depth':3, 'learning_rate':0.005,}\n",
    "\n",
    "# model = GradientBoostingRegressor(**params)\n",
    "# model.fit(X_train_poly, y_train)\n",
    "\n",
    "# # Preprocess the test data with polynomial features based on the selected degree\n",
    "# X_test_poly = poly_features.transform(X_test)\n",
    "\n",
    "# # Make predictions with the best model\n",
    "# y_pred = model.predict(X_test_poly)\n",
    "\n",
    "# # Calculate Mean Squared Error (MSE) and R-squared (R2) score\n",
    "# mse = mean_squared_error(y_test, y_pred)\n",
    "# r2 = r2_score(y_test, y_pred)\n",
    "\n",
    "# # print(\"Best Parameters:\", best_params)\n",
    "# print(\"MSE:\", mse)\n",
    "# print(\"R-squared:\", r2)"
   ]
  },
  {
   "cell_type": "code",
   "execution_count": 103,
   "metadata": {},
   "outputs": [
    {
     "data": {
      "image/png": "[encoded data removed]",
      "text/plain": [
       "<Figure size 432x432 with 1 Axes>"
      ]
     },
     "metadata": {
      "needs_background": "light"
     },
     "output_type": "display_data"
    }
   ],
   "source": [
    "# test_score = np.zeros((params[\"n_estimators\"],), dtype=np.float64)\n",
    "# for i, y_pred in enumerate(model.staged_predict(X_test_poly)):\n",
    "#     test_score[i] = mean_squared_error(y_test, y_pred)\n",
    "\n",
    "# fig = plt.figure(figsize=(6, 6))\n",
    "# plt.subplot(1, 1, 1)\n",
    "# plt.title(\"Deviance\")\n",
    "# plt.plot(\n",
    "#     np.arange(params[\"n_estimators\"]) + 1,\n",
    "#     model.train_score_,\n",
    "#     \"b-\",\n",
    "#     label=\"Training Set Deviance\",\n",
    "# )\n",
    "# plt.plot(\n",
    "#     np.arange(params[\"n_estimators\"]) + 1, test_score, \"r-\", label=\"Test Set Deviance\"\n",
    "# )\n",
    "# plt.legend(loc=\"upper right\")\n",
    "# plt.xlabel(\"Boosting Iterations\")\n",
    "# plt.ylabel(\"Deviance\")\n",
    "# fig.tight_layout()\n",
    "# plt.show()"
   ]
  },
  {
   "cell_type": "markdown",
   "metadata": {},
   "source": [
    "Produces worse test MSE"
   ]
  },
  {
   "cell_type": "markdown",
   "metadata": {},
   "source": [
    "## Random forest"
   ]
  },
  {
   "cell_type": "code",
   "execution_count": 31,
   "metadata": {},
   "outputs": [
    {
     "name": "stderr",
     "output_type": "stream",
     "text": [
      "/Users/bdogellis/opt/anaconda3/lib/python3.8/site-packages/sklearn/ensemble/_forest.py:413: FutureWarning: `max_features='auto'` has been deprecated in 1.1 and will be removed in 1.3. To keep the past behaviour, explicitly set `max_features=1.0` or remove this parameter as it is also the default value for RandomForestRegressors and ExtraTreesRegressors.\n",
      "  warn(\n"
     ]
    },
    {
     "name": "stdout",
     "output_type": "stream",
     "text": [
      "Best Model Hyperparameters: {'bootstrap': True, 'max_depth': 13, 'max_features': 'auto', 'min_samples_leaf': 7, 'min_samples_split': 5, 'n_estimators': 311}\n",
      "Best Model MSE: 2630.109569926699\n",
      "Best Model R-squared: 0.44211396763526234\n"
     ]
    }
   ],
   "source": [
    "# from scipy.stats import randint\n",
    "\n",
    "# # Define the hyperparameter search space\n",
    "# param_dist = {\n",
    "#     'n_estimators': randint(50, 500),\n",
    "#     'max_features': ['auto', 'sqrt', 'log2'],\n",
    "#     'max_depth': randint(2, 20),\n",
    "#     'min_samples_split': randint(2, 20),\n",
    "#     'min_samples_leaf': randint(1, 20),\n",
    "#     'bootstrap': [True, False]\n",
    "# }\n",
    "\n",
    "# # Create the RandomForestRegressor instance\n",
    "# rf = RandomForestRegressor(random_state=42)\n",
    "\n",
    "# # Perform the randomized search using RandomizedSearchCV\n",
    "# random_search = RandomizedSearchCV(\n",
    "#     rf,\n",
    "#     param_distributions=param_dist,\n",
    "#     n_iter=100,  # Adjust the number of iterations as needed\n",
    "#     scoring='neg_mean_squared_error',  # Use MSE as the scoring metric\n",
    "#     cv=5,  # Number of cross-validation folds\n",
    "#     n_jobs=-1,  # Use all available CPU cores for parallel processing\n",
    "#     random_state=42\n",
    "# )\n",
    "\n",
    "# random_search.fit(X_train_poly, y_train)  # X_train_poly is your polynomial training data\n",
    "\n",
    "# # Get the best hyperparameters and the corresponding model\n",
    "# best_params = random_search.best_params_\n",
    "# best_rf_model = random_search.best_estimator_\n",
    "\n",
    "# # Evaluate the best model on your test data\n",
    "# y_pred = best_rf_model.predict(X_test_poly)  # X_test_poly is your polynomial test data\n",
    "# mse = mean_squared_error(y_test, y_pred)\n",
    "# r2 = r2_score(y_test, y_pred)\n",
    "\n",
    "# print(\"Best Model Hyperparameters:\", best_params)\n",
    "# print(\"Best Model MSE:\", mse)\n",
    "# print(\"Best Model R-squared:\", r2)"
   ]
  },
  {
   "cell_type": "markdown",
   "metadata": {},
   "source": [
    "Here are the best model parameters produced: {'bootstrap': True, 'max_depth': 13, 'max_features': 'auto', 'min_samples_leaf': 7, 'min_samples_split': 5, 'n_estimators': 311}<br>\n",
    "Best Model MSE: 2630.109569926699<br>\n",
    "Best Model R-squared: 0.44211396763526234"
   ]
  },
  {
   "cell_type": "code",
   "execution_count": 33,
   "metadata": {},
   "outputs": [],
   "source": [
    "rf_params = {'bootstrap': True, 'max_depth': 13, 'max_features': 'auto', 'min_samples_leaf': 7, 'min_samples_split': 5, 'n_estimators': 311,}"
   ]
  },
  {
   "cell_type": "markdown",
   "metadata": {},
   "source": [
    "## Ensemble Model"
   ]
  },
  {
   "cell_type": "code",
   "execution_count": 34,
   "metadata": {},
   "outputs": [
    {
     "name": "stderr",
     "output_type": "stream",
     "text": [
      "/Users/bdogellis/opt/anaconda3/lib/python3.8/site-packages/sklearn/ensemble/_forest.py:413: FutureWarning: `max_features='auto'` has been deprecated in 1.1 and will be removed in 1.3. To keep the past behaviour, explicitly set `max_features=1.0` or remove this parameter as it is also the default value for RandomForestRegressors and ExtraTreesRegressors.\n",
      "  warn(\n",
      "/Users/bdogellis/opt/anaconda3/lib/python3.8/site-packages/sklearn/ensemble/_forest.py:413: FutureWarning: `max_features='auto'` has been deprecated in 1.1 and will be removed in 1.3. To keep the past behaviour, explicitly set `max_features=1.0` or remove this parameter as it is also the default value for RandomForestRegressors and ExtraTreesRegressors.\n",
      "  warn(\n"
     ]
    },
    {
     "name": "stdout",
     "output_type": "stream",
     "text": [
      "GradientBoostingRegressor MSE: 2468.8423650456825\n",
      "GradientBoostingRegressor R-squared: 0.47632118170358295\n",
      "RandomForestRegressor MSE: 2610.2176207182883\n",
      "RandomForestRegressor R-squared: 0.44633335102018734\n",
      "Ensemble (VotingRegressor) MSE: 831.6022035329638\n",
      "Ensemble (VotingRegressor) R-squared: 0.8236045907974441\n"
     ]
    }
   ],
   "source": [
    "from sklearn.ensemble import VotingRegressor\n",
    "\n",
    "# Create base models\n",
    "gb_model = GradientBoostingRegressor(**params)\n",
    "rf_model = RandomForestRegressor(**rf_params)\n",
    "\n",
    "# Train the base models\n",
    "gb_model.fit(X_train_poly, y_train)\n",
    "rf_model.fit(X_train_poly, y_train)\n",
    "\n",
    "# Make predictions with base models\n",
    "y_pred_gb = gb_model.predict(X_test_poly)\n",
    "y_pred_rf = rf_model.predict(X_test_poly)\n",
    "\n",
    "# Create an ensemble model (VotingRegressor)\n",
    "model = VotingRegressor([('gb', gb_model), ('rf', rf_model)])\n",
    "\n",
    "# Train the ensemble model\n",
    "model.fit(X_test_poly, y_test)\n",
    "\n",
    "# Make predictions with the ensemble model\n",
    "y_pred_ensemble = model.predict(X_test_poly)\n",
    "\n",
    "# Calculate Mean Squared Error (MSE) and R-squared (R2) for individual models and ensemble\n",
    "mse_gb = mean_squared_error(y_test, y_pred_gb)\n",
    "r2_gb = r2_score(y_test, y_pred_gb)\n",
    "\n",
    "mse_rf = mean_squared_error(y_test, y_pred_rf)\n",
    "r2_rf = r2_score(y_test, y_pred_rf)\n",
    "\n",
    "mse_ensemble = mean_squared_error(y_test, y_pred_ensemble)\n",
    "r2_ensemble = r2_score(y_test, y_pred_ensemble)\n",
    "\n",
    "# Print the evaluation metrics\n",
    "print(\"GradientBoostingRegressor MSE:\", mse_gb)\n",
    "print(\"GradientBoostingRegressor R-squared:\", r2_gb)\n",
    "\n",
    "print(\"RandomForestRegressor MSE:\", mse_rf)\n",
    "print(\"RandomForestRegressor R-squared:\", r2_rf)\n",
    "\n",
    "print(\"Ensemble (VotingRegressor) MSE:\", mse_ensemble)\n",
    "print(\"Ensemble (VotingRegressor) R-squared:\", r2_ensemble)\n"
   ]
  },
  {
   "cell_type": "code",
   "execution_count": 35,
   "metadata": {},
   "outputs": [
    {
     "name": "stderr",
     "output_type": "stream",
     "text": [
      "/Users/bdogellis/opt/anaconda3/lib/python3.8/site-packages/sklearn/ensemble/_forest.py:413: FutureWarning: `max_features='auto'` has been deprecated in 1.1 and will be removed in 1.3. To keep the past behaviour, explicitly set `max_features=1.0` or remove this parameter as it is also the default value for RandomForestRegressors and ExtraTreesRegressors.\n",
      "  warn(\n"
     ]
    },
    {
     "data": {
      "text/html": [
       "<style>#sk-container-id-2 {color: black;background-color: white;}#sk-container-id-2 pre{padding: 0;}#sk-container-id-2 div.sk-toggleable {background-color: white;}#sk-container-id-2 label.sk-toggleable__label {cursor: pointer;display: block;width: 100%;margin-bottom: 0;padding: 0.3em;box-sizing: border-box;text-align: center;}#sk-container-id-2 label.sk-toggleable__label-arrow:before {content: \"▸\";float: left;margin-right: 0.25em;color: #696969;}#sk-container-id-2 label.sk-toggleable__label-arrow:hover:before {color: black;}#sk-container-id-2 div.sk-estimator:hover label.sk-toggleable__label-arrow:before {color: black;}#sk-container-id-2 div.sk-toggleable__content {max-height: 0;max-width: 0;overflow: hidden;text-align: left;background-color: #f0f8ff;}#sk-container-id-2 div.sk-toggleable__content pre {margin: 0.2em;color: black;border-radius: 0.25em;background-color: #f0f8ff;}#sk-container-id-2 input.sk-toggleable__control:checked~div.sk-toggleable__content {max-height: 200px;max-width: 100%;overflow: auto;}#sk-container-id-2 input.sk-toggleable__control:checked~label.sk-toggleable__label-arrow:before {content: \"▾\";}#sk-container-id-2 div.sk-estimator input.sk-toggleable__control:checked~label.sk-toggleable__label {background-color: #d4ebff;}#sk-container-id-2 div.sk-label input.sk-toggleable__control:checked~label.sk-toggleable__label {background-color: #d4ebff;}#sk-container-id-2 input.sk-hidden--visually {border: 0;clip: rect(1px 1px 1px 1px);clip: rect(1px, 1px, 1px, 1px);height: 1px;margin: -1px;overflow: hidden;padding: 0;position: absolute;width: 1px;}#sk-container-id-2 div.sk-estimator {font-family: monospace;background-color: #f0f8ff;border: 1px dotted black;border-radius: 0.25em;box-sizing: border-box;margin-bottom: 0.5em;}#sk-container-id-2 div.sk-estimator:hover {background-color: #d4ebff;}#sk-container-id-2 div.sk-parallel-item::after {content: \"\";width: 100%;border-bottom: 1px solid gray;flex-grow: 1;}#sk-container-id-2 div.sk-label:hover label.sk-toggleable__label {background-color: #d4ebff;}#sk-container-id-2 div.sk-serial::before {content: \"\";position: absolute;border-left: 1px solid gray;box-sizing: border-box;top: 0;bottom: 0;left: 50%;z-index: 0;}#sk-container-id-2 div.sk-serial {display: flex;flex-direction: column;align-items: center;background-color: white;padding-right: 0.2em;padding-left: 0.2em;position: relative;}#sk-container-id-2 div.sk-item {position: relative;z-index: 1;}#sk-container-id-2 div.sk-parallel {display: flex;align-items: stretch;justify-content: center;background-color: white;position: relative;}#sk-container-id-2 div.sk-item::before, #sk-container-id-2 div.sk-parallel-item::before {content: \"\";position: absolute;border-left: 1px solid gray;box-sizing: border-box;top: 0;bottom: 0;left: 50%;z-index: -1;}#sk-container-id-2 div.sk-parallel-item {display: flex;flex-direction: column;z-index: 1;position: relative;background-color: white;}#sk-container-id-2 div.sk-parallel-item:first-child::after {align-self: flex-end;width: 50%;}#sk-container-id-2 div.sk-parallel-item:last-child::after {align-self: flex-start;width: 50%;}#sk-container-id-2 div.sk-parallel-item:only-child::after {width: 0;}#sk-container-id-2 div.sk-dashed-wrapped {border: 1px dashed gray;margin: 0 0.4em 0.5em 0.4em;box-sizing: border-box;padding-bottom: 0.4em;background-color: white;}#sk-container-id-2 div.sk-label label {font-family: monospace;font-weight: bold;display: inline-block;line-height: 1.2em;}#sk-container-id-2 div.sk-label-container {text-align: center;}#sk-container-id-2 div.sk-container {/* jupyter's `normalize.less` sets `[hidden] { display: none; }` but bootstrap.min.css set `[hidden] { display: none !important; }` so we also need the `!important` here to be able to override the default hidden behavior on the sphinx rendered scikit-learn.org. See: https://github.com/scikit-learn/scikit-learn/issues/21755 */display: inline-block !important;position: relative;}#sk-container-id-2 div.sk-text-repr-fallback {display: none;}</style><div id=\"sk-container-id-2\" class=\"sk-top-container\"><div class=\"sk-text-repr-fallback\"><pre>VotingRegressor(estimators=[(&#x27;gb&#x27;,\n",
       "                             GradientBoostingRegressor(learning_rate=0.005,\n",
       "                                                       min_samples_split=15,\n",
       "                                                       n_estimators=400)),\n",
       "                            (&#x27;rf&#x27;,\n",
       "                             RandomForestRegressor(max_depth=13,\n",
       "                                                   max_features=&#x27;auto&#x27;,\n",
       "                                                   min_samples_leaf=7,\n",
       "                                                   min_samples_split=5,\n",
       "                                                   n_estimators=311))])</pre><b>In a Jupyter environment, please rerun this cell to show the HTML representation or trust the notebook. <br />On GitHub, the HTML representation is unable to render, please try loading this page with nbviewer.org.</b></div><div class=\"sk-container\" hidden><div class=\"sk-item sk-dashed-wrapped\"><div class=\"sk-label-container\"><div class=\"sk-label sk-toggleable\"><input class=\"sk-toggleable__control sk-hidden--visually\" id=\"sk-estimator-id-4\" type=\"checkbox\" ><label for=\"sk-estimator-id-4\" class=\"sk-toggleable__label sk-toggleable__label-arrow\">VotingRegressor</label><div class=\"sk-toggleable__content\"><pre>VotingRegressor(estimators=[(&#x27;gb&#x27;,\n",
       "                             GradientBoostingRegressor(learning_rate=0.005,\n",
       "                                                       min_samples_split=15,\n",
       "                                                       n_estimators=400)),\n",
       "                            (&#x27;rf&#x27;,\n",
       "                             RandomForestRegressor(max_depth=13,\n",
       "                                                   max_features=&#x27;auto&#x27;,\n",
       "                                                   min_samples_leaf=7,\n",
       "                                                   min_samples_split=5,\n",
       "                                                   n_estimators=311))])</pre></div></div></div><div class=\"sk-parallel\"><div class=\"sk-parallel-item\"><div class=\"sk-item\"><div class=\"sk-label-container\"><div class=\"sk-label sk-toggleable\"><label>gb</label></div></div><div class=\"sk-serial\"><div class=\"sk-item\"><div class=\"sk-estimator sk-toggleable\"><input class=\"sk-toggleable__control sk-hidden--visually\" id=\"sk-estimator-id-5\" type=\"checkbox\" ><label for=\"sk-estimator-id-5\" class=\"sk-toggleable__label sk-toggleable__label-arrow\">GradientBoostingRegressor</label><div class=\"sk-toggleable__content\"><pre>GradientBoostingRegressor(learning_rate=0.005, min_samples_split=15,\n",
       "                          n_estimators=400)</pre></div></div></div></div></div></div><div class=\"sk-parallel-item\"><div class=\"sk-item\"><div class=\"sk-label-container\"><div class=\"sk-label sk-toggleable\"><label>rf</label></div></div><div class=\"sk-serial\"><div class=\"sk-item\"><div class=\"sk-estimator sk-toggleable\"><input class=\"sk-toggleable__control sk-hidden--visually\" id=\"sk-estimator-id-6\" type=\"checkbox\" ><label for=\"sk-estimator-id-6\" class=\"sk-toggleable__label sk-toggleable__label-arrow\">RandomForestRegressor</label><div class=\"sk-toggleable__content\"><pre>RandomForestRegressor(max_depth=13, max_features=&#x27;auto&#x27;, min_samples_leaf=7,\n",
       "                      min_samples_split=5, n_estimators=311)</pre></div></div></div></div></div></div></div></div></div></div>"
      ],
      "text/plain": [
       "VotingRegressor(estimators=[('gb',\n",
       "                             GradientBoostingRegressor(learning_rate=0.005,\n",
       "                                                       min_samples_split=15,\n",
       "                                                       n_estimators=400)),\n",
       "                            ('rf',\n",
       "                             RandomForestRegressor(max_depth=13,\n",
       "                                                   max_features='auto',\n",
       "                                                   min_samples_leaf=7,\n",
       "                                                   min_samples_split=5,\n",
       "                                                   n_estimators=311))])"
      ]
     },
     "execution_count": 35,
     "metadata": {},
     "output_type": "execute_result"
    }
   ],
   "source": [
    "model.fit(X, y)"
   ]
  },
  {
   "cell_type": "markdown",
   "metadata": {},
   "source": [
    "# Best Model Above ^\n",
    "Voting_regressor2"
   ]
  },
  {
   "cell_type": "markdown",
   "metadata": {},
   "source": [
    "#### Feature Importances"
   ]
  },
  {
   "cell_type": "code",
   "execution_count": 39,
   "metadata": {},
   "outputs": [
    {
     "name": "stdout",
     "output_type": "stream",
     "text": [
      "sorted_idx_mdi: [   0 1395 1394 ...   85  156  162]\n",
      "feature_importance_mdi: [0. 0. 0. ... 0. 0. 0.]\n"
     ]
    },
    {
     "data": {
      "text/plain": [
       "2145"
      ]
     },
     "execution_count": 39,
     "metadata": {},
     "output_type": "execute_result"
    }
   ],
   "source": [
    "from sklearn.inspection import permutation_importance\n",
    "\n",
    "# Calculate MDI feature importances\n",
    "feature_importance_mdi = model.feature_importances_\n",
    "sorted_idx_mdi = np.argsort(feature_importance_mdi)\n",
    "\n",
    "# # Create a figure for MDI importance\n",
    "# fig = plt.figure(figsize=(12, 6))\n",
    "# plt.subplot(1, 2, 1)\n",
    "# plt.barh(pos, feature_importance_mdi[sorted_idx_mdi], align=\"center\")\n",
    "# plt.yticks(pos, np.array(df.columns)[sorted_idx_mdi])\n",
    "# plt.title(\"Feature Importance (MDI)\")\n",
    "\n",
    "# # Calculate permutation importances\n",
    "# result = permutation_importance(\n",
    "#     model, X_test_poly, y_test, n_repeats=10, random_state=42, n_jobs=2\n",
    "# )\n",
    "# sorted_idx_perm = result.importances_mean.argsort()\n",
    "\n",
    "# # Create a figure for permutation importance\n",
    "# plt.subplot(1, 2, 2)\n",
    "# plt.boxplot(\n",
    "#     result.importances[sorted_idx_perm].T,\n",
    "#     vert=False,\n",
    "#     labels=np.array(df.columns)[sorted_idx_perm],\n",
    "# )\n",
    "# plt.title(\"Permutation Importance (test set)\")\n",
    "# fig.tight_layout()\n",
    "# plt.show()\n",
    "\n",
    "print(\"sorted_idx_mdi:\", sorted_idx_mdi)\n",
    "print(\"feature_importance_mdi:\", feature_importance_mdi)\n",
    "len(feature_importance_mdi)\n"
   ]
  },
  {
   "cell_type": "code",
   "execution_count": 9,
   "metadata": {},
   "outputs": [
    {
     "data": {
      "image/png": "[encoded data removed]",
      "text/plain": [
       "<Figure size 864x432 with 1 Axes>"
      ]
     },
     "metadata": {
      "needs_background": "light"
     },
     "output_type": "display_data"
    }
   ],
   "source": [
    "# Get feature importances from the model\n",
    "feature_importance = model.feature_importances_\n",
    "\n",
    "# Create a sorted index for feature importances\n",
    "sorted_idx = np.argsort(feature_importance)\n",
    "\n",
    "# Plot feature importances\n",
    "pos = np.arange(sorted_idx.shape[0]) + 0.5\n",
    "plt.figure(figsize=(12, 6))\n",
    "plt.barh(pos, feature_importance[sorted_idx], align=\"center\")\n",
    "# Map feature names to the corresponding indices in the sorted index\n",
    "feature_names = np.array(df.columns)  # Assuming df contains your DataFrame\n",
    "plt.yticks(pos)\n",
    "plt.title(\"Feature Importance with Polynomial Features\")\n",
    "plt.xlabel(\"Feature Importance\")\n",
    "plt.show()"
   ]
  },
  {
   "cell_type": "code",
   "execution_count": 41,
   "metadata": {},
   "outputs": [
    {
     "data": {
      "text/plain": [
       "2145"
      ]
     },
     "execution_count": 41,
     "metadata": {},
     "output_type": "execute_result"
    }
   ],
   "source": [
    "len(feature_importance)"
   ]
  },
  {
   "cell_type": "code",
   "execution_count": 63,
   "metadata": {},
   "outputs": [
    {
     "name": "stdout",
     "output_type": "stream",
     "text": [
      "MSE: 2341.4088429650037\n",
      "R-squared: 0.5033517597588675\n"
     ]
    }
   ],
   "source": [
    "# Sort the feature importances and get the indices of the top 100 features\n",
    "top_100_indices = np.argsort(feature_importance)[-34:]\n",
    "\n",
    "# Create a new feature matrix containing only the top 100 features\n",
    "X_train_top_100 = X_train_poly[:, top_100_indices]\n",
    "\n",
    "# Refit your GradientBoostingRegressor model using the reduced feature matrix\n",
    "model_top_100 = GradientBoostingRegressor(**params)\n",
    "model_top_100.fit(X_train_top_100, y_train)  # Train the model with the top 100 features\n",
    "\n",
    "# Preprocess the test data with polynomial features based on the selected degree\n",
    "X_test_poly = poly_features.transform(X_test)\n",
    "\n",
    "# Transform the test data to include only the top 100 features\n",
    "X_test_top_100 = X_test_poly[:, top_100_indices]\n",
    "\n",
    "# Make predictions with the best model using the top 100 features\n",
    "y_pred = model_top_100.predict(X_test_top_100)\n",
    "\n",
    "# Calculate Mean Squared Error (MSE) and R-squared (R2) score\n",
    "mse = mean_squared_error(y_test, y_pred)\n",
    "r2 = r2_score(y_test, y_pred)\n",
    "\n",
    "# print(\"Best Parameters:\", best_params)\n",
    "print(\"MSE:\", mse)\n",
    "print(\"R-squared:\", r2)"
   ]
  },
  {
   "cell_type": "code",
   "execution_count": 69,
   "metadata": {},
   "outputs": [
    {
     "name": "stdout",
     "output_type": "stream",
     "text": [
      "Top Features: 20\n",
      "MSE: 2863.474989279892\n",
      "R-squared: 0.3926136314581218\n",
      "Top Features: 21\n",
      "MSE: 2570.083709093574\n",
      "R-squared: 0.4548463608870018\n",
      "Top Features: 22\n",
      "MSE: 2535.3941492748163\n",
      "R-squared: 0.4622045413647471\n",
      "Top Features: 23\n",
      "MSE: 2435.5835643710207\n",
      "R-squared: 0.4833758765200099\n",
      "Top Features: 24\n",
      "MSE: 2436.8677970276285\n",
      "R-squared: 0.4831034713435791\n",
      "Top Features: 25\n",
      "MSE: 2287.9487566509915\n",
      "R-squared: 0.5146914528973673\n",
      "Top Features: 26\n",
      "MSE: 2290.439863921594\n",
      "R-squared: 0.5141630513557425\n",
      "Top Features: 27\n",
      "MSE: 2306.9613517611924\n",
      "R-squared: 0.5106585938209742\n",
      "Top Features: 28\n",
      "MSE: 2288.1406557770706\n",
      "R-squared: 0.5146507481893632\n",
      "Top Features: 29\n",
      "MSE: 2314.3620688079022\n",
      "R-squared: 0.5090887897652603\n",
      "Top Features: 30\n",
      "MSE: 2383.4801481042455\n",
      "R-squared: 0.4944277994155757\n",
      "Top Features: 31\n",
      "MSE: 2453.861478827815\n",
      "R-squared: 0.4794988543256504\n",
      "Top Features: 32\n",
      "MSE: 2371.9050638861636\n",
      "R-squared: 0.49688304990496635\n",
      "Top Features: 33\n",
      "MSE: 2372.7570084384006\n",
      "R-squared: 0.49670233957583143\n",
      "Top Features: 34\n",
      "MSE: 2339.817619463546\n",
      "R-squared: 0.5036892823381485\n",
      "Top Features: 35\n",
      "MSE: 2288.366264228346\n",
      "R-squared: 0.5146028932234754\n",
      "Top Features: 36\n",
      "MSE: 2290.372572332444\n",
      "R-squared: 0.514177324919898\n",
      "Top Features: 37\n",
      "MSE: 2266.2385092051327\n",
      "R-squared: 0.5192965248486336\n",
      "Top Features: 38\n",
      "MSE: 2287.9646240993043\n",
      "R-squared: 0.5146880871715116\n",
      "Top Features: 39\n",
      "MSE: 2312.5340472544285\n",
      "R-squared: 0.5094765407940408\n",
      "Top Features: 40\n",
      "MSE: 2373.817475600239\n",
      "R-squared: 0.4964773984463302\n",
      "Top Features: 41\n",
      "MSE: 2378.889394234867\n",
      "R-squared: 0.49540156776767597\n",
      "Top Features: 42\n",
      "MSE: 2394.6876104328276\n",
      "R-squared: 0.492050527090931\n",
      "Top Features: 43\n",
      "MSE: 2419.5224706021736\n",
      "R-squared: 0.48678267750678017\n",
      "Top Features: 44\n",
      "MSE: 2432.5233036963455\n",
      "R-squared: 0.4840250041097187\n",
      "Top Features: 45\n",
      "MSE: 2409.063524748469\n",
      "R-squared: 0.48900117816232647\n",
      "Top Features: 46\n",
      "MSE: 2437.9308231826326\n",
      "R-squared: 0.482877987412911\n",
      "Top Features: 47\n",
      "MSE: 2466.582647970101\n",
      "R-squared: 0.4768005018839959\n",
      "Top Features: 48\n",
      "MSE: 2477.182105755224\n",
      "R-squared: 0.4745521965219024\n",
      "Top Features: 49\n",
      "MSE: 2408.9449068333174\n",
      "R-squared: 0.48902633881677515\n",
      "Top Features: 50\n",
      "MSE: 2433.00275755706\n",
      "R-squared: 0.4839233046919019\n",
      "Top Features: 51\n",
      "MSE: 2474.708732550491\n",
      "R-squared: 0.47507683639984644\n",
      "Top Features: 52\n",
      "MSE: 2416.66024387023\n",
      "R-squared: 0.4873897991010554\n",
      "Top Features: 53\n",
      "MSE: 2402.430351819456\n",
      "R-squared: 0.49040817449801877\n",
      "Top Features: 54\n",
      "MSE: 2358.1568976467443\n",
      "R-squared: 0.49979924396900843\n",
      "Top Features: 55\n",
      "MSE: 2365.577619945957\n",
      "R-squared: 0.4982251964965665\n",
      "Top Features: 56\n",
      "MSE: 2368.62723154746\n",
      "R-squared: 0.4975783277363942\n",
      "Top Features: 57\n",
      "MSE: 2374.7380673515586\n",
      "R-squared: 0.4962821270076633\n",
      "Top Features: 58\n",
      "MSE: 2386.8790715259565\n",
      "R-squared: 0.49370683633337875\n",
      "Top Features: 59\n",
      "MSE: 2401.435459667042\n",
      "R-squared: 0.4906192061758955\n",
      "Top Features: 60\n",
      "MSE: 2422.3593012468928\n",
      "R-squared: 0.48618094280683866\n",
      "Top Features: 61\n",
      "MSE: 2428.5623749601255\n",
      "R-squared: 0.4848651770220551\n",
      "Top Features: 62\n",
      "MSE: 2460.3300167714833\n",
      "R-squared: 0.4781267795612161\n",
      "Top Features: 63\n",
      "MSE: 2463.605070927898\n",
      "R-squared: 0.47743209102428463\n",
      "Top Features: 64\n",
      "MSE: 2449.4263226257654\n",
      "R-squared: 0.4804396180583752\n"
     ]
    },
    {
     "data": {
      "image/png": "[encoded data removed]",
      "text/plain": [
       "<Figure size 720x576 with 2 Axes>"
      ]
     },
     "metadata": {
      "needs_background": "light"
     },
     "output_type": "display_data"
    }
   ],
   "source": [
    "import matplotlib.pyplot as plt\n",
    "\n",
    "# Initialize lists to store MSE and R2 values\n",
    "mse_values = []\n",
    "r2_values = []\n",
    "\n",
    "# Define the range of top features (20 to 64)\n",
    "top_feature_ranges = range(20, 65)\n",
    "\n",
    "# Create subplots\n",
    "fig, (ax1, ax2) = plt.subplots(2, 1, figsize=(10, 8))\n",
    "\n",
    "for top_features in top_feature_ranges:\n",
    "    # Get the top 'top_features' indices\n",
    "    top_indices = np.argsort(feature_importance)[-top_features:]\n",
    "\n",
    "    # Create a new feature matrix containing only the top 'top_features' features\n",
    "    X_train_top = X_train_poly[:, top_indices]\n",
    "    X_test_top = X_test_poly[:, top_indices]\n",
    "\n",
    "    # Refit the model using the reduced feature matrix\n",
    "    model = GradientBoostingRegressor(**params)\n",
    "    model.fit(X_train_top, y_train)\n",
    "\n",
    "    # Make predictions with the model using the top 'top_features' features\n",
    "    y_pred = model.predict(X_test_top)\n",
    "\n",
    "    # Calculate Mean Squared Error (MSE) and R-squared (R2)\n",
    "    mse = mean_squared_error(y_test, y_pred)\n",
    "    r2 = r2_score(y_test, y_pred)\n",
    "\n",
    "    # Append MSE and R2 values to the lists\n",
    "    mse_values.append(mse)\n",
    "    r2_values.append(r2)\n",
    "\n",
    "    print(\"Top Features:\", top_features)\n",
    "    print(\"MSE:\", mse)\n",
    "    print(\"R-squared:\", r2)\n",
    "\n",
    "# Plot MSE\n",
    "ax1.plot(top_feature_ranges, mse_values, label='MSE', color='blue')\n",
    "ax1.set_xlabel('Number of Top Features')\n",
    "ax1.set_ylabel('MSE')\n",
    "ax1.set_title('Model MSE vs. Number of Top Features')\n",
    "ax1.grid()\n",
    "\n",
    "# Plot R2\n",
    "ax2.plot(top_feature_ranges, r2_values, label='R-squared', color='green')\n",
    "ax2.set_xlabel('Number of Top Features')\n",
    "ax2.set_ylabel('R-squared')\n",
    "ax2.set_title('Model R-squared vs. Number of Top Features')\n",
    "ax2.grid()\n",
    "\n",
    "# Adjust spacing between subplots\n",
    "plt.tight_layout()\n",
    "\n",
    "# Show the subplots\n",
    "plt.show()\n"
   ]
  },
  {
   "cell_type": "code",
   "execution_count": 10,
   "metadata": {},
   "outputs": [
    {
     "name": "stdout",
     "output_type": "stream",
     "text": [
      "Top Features: 50\n",
      "Cross-Validated MSE: 3186.8490573519325\n",
      "Cross-Validated R-squared: 0.46573848881531194\n",
      "Top Features: 51\n",
      "Cross-Validated MSE: 3185.2342101477975\n",
      "Cross-Validated R-squared: 0.4659972608184214\n",
      "Top Features: 52\n",
      "Cross-Validated MSE: 3184.400387703023\n",
      "Cross-Validated R-squared: 0.4665657624851189\n",
      "Top Features: 53\n",
      "Cross-Validated MSE: 3177.2699418397924\n",
      "Cross-Validated R-squared: 0.46684276965714544\n",
      "Top Features: 54\n",
      "Cross-Validated MSE: 3190.027254339754\n",
      "Cross-Validated R-squared: 0.46656236296035736\n",
      "Top Features: 55\n",
      "Cross-Validated MSE: 3100.952863757189\n",
      "Cross-Validated R-squared: 0.48036636788535547\n",
      "Top Features: 56\n",
      "Cross-Validated MSE: 3117.4312867518083\n",
      "Cross-Validated R-squared: 0.4779645840784433\n",
      "Top Features: 57\n",
      "Cross-Validated MSE: 3118.343143519309\n",
      "Cross-Validated R-squared: 0.4768788656181292\n",
      "Top Features: 58\n",
      "Cross-Validated MSE: 3133.1871933033076\n",
      "Cross-Validated R-squared: 0.4747318412427857\n",
      "Top Features: 59\n",
      "Cross-Validated MSE: 3129.0669245788513\n",
      "Cross-Validated R-squared: 0.47512195449358935\n"
     ]
    },
    {
     "data": {
      "image/png": "[encoded data removed]",
      "text/plain": [
       "<Figure size 720x576 with 2 Axes>"
      ]
     },
     "metadata": {
      "needs_background": "light"
     },
     "output_type": "display_data"
    }
   ],
   "source": [
    "from sklearn.model_selection import cross_val_score\n",
    "\n",
    "# Initialize lists to store MSE and R2 values\n",
    "mse_values = []\n",
    "r2_values = []\n",
    "\n",
    "# Define the range of top features (20 to 64)\n",
    "top_feature_ranges = range(50, 60)\n",
    "\n",
    "# Create subplots\n",
    "fig, (ax1, ax2) = plt.subplots(2, 1, figsize=(10, 8))\n",
    "\n",
    "for top_features in top_feature_ranges:\n",
    "    # Get the top 'top_features' indices\n",
    "    top_indices = np.argsort(feature_importance)[-top_features:]\n",
    "\n",
    "    # Create a new feature matrix containing only the top 'top_features' features\n",
    "    X_train_top = X_train_poly[:, top_indices]\n",
    "    X_test_top = X_test_poly[:, top_indices]\n",
    "\n",
    "    # Create a model (you can use your parameter settings)\n",
    "    model = GradientBoostingRegressor(**params)\n",
    "\n",
    "    # Perform cross-validation to compute the MSE and R-squared\n",
    "    mse_scores = -cross_val_score(model, X_train_top, y_train, cv=5, scoring='neg_mean_squared_error')\n",
    "    r2_scores = cross_val_score(model, X_train_top, y_train, cv=5, scoring='r2')\n",
    "\n",
    "    # Take the average of cross-validated scores\n",
    "    mse = mse_scores.mean()\n",
    "    r2 = r2_scores.mean()\n",
    "\n",
    "    # Append MSE and R2 values to the lists\n",
    "    mse_values.append(mse)\n",
    "    r2_values.append(r2)\n",
    "\n",
    "    print(\"Top Features:\", top_features)\n",
    "    print(\"Cross-Validated MSE:\", mse)\n",
    "    print(\"Cross-Validated R-squared:\", r2)\n",
    "\n",
    "# Plot MSE\n",
    "ax1.plot(top_feature_ranges, mse_values, label='MSE', color='blue')\n",
    "ax1.set_xlabel('Number of Top Features')\n",
    "ax1.set_ylabel('MSE')\n",
    "ax1.set_title('Model MSE vs. Number of Top Features')\n",
    "ax1.grid()\n",
    "\n",
    "# Plot R2\n",
    "ax2.plot(top_feature_ranges, r2_values, label='R-squared', color='green')\n",
    "ax2.set_xlabel('Number of Top Features')\n",
    "ax2.set_ylabel('R-squared')\n",
    "ax2.set_title('Model R-squared vs. Number of Top Features')\n",
    "ax2.grid()\n",
    "\n",
    "# Adjust spacing between subplots\n",
    "plt.tight_layout()\n",
    "\n",
    "# Show the subplots\n",
    "plt.show()"
   ]
  },
  {
   "cell_type": "markdown",
   "metadata": {},
   "source": [
    "We are actually able to achieve lower MSE and higher r2 scores with less features in our model. We see that the r2 and MSE are correlated, so let's select the model with the lowest MSE value and thus the highest r2 score."
   ]
  },
  {
   "cell_type": "code",
   "execution_count": 19,
   "metadata": {},
   "outputs": [
    {
     "name": "stdout",
     "output_type": "stream",
     "text": [
      "Final Model MSE: 2462.128966152201\n",
      "Final Model R-squared: 0.47774519518012826\n"
     ]
    }
   ],
   "source": [
    "# # # Find the index of the minimum MSE value\n",
    "# # min_mse_index = np.argmin(mse_values)\n",
    "\n",
    "# min_mse_index = 20\n",
    "\n",
    "# # Get the corresponding top feature indices\n",
    "# best_top_indices = np.argsort(feature_importance)[:-min_mse_index]\n",
    "\n",
    "# # Create the final feature matrix using the best top features\n",
    "# X_train_final = X_train_poly[:, best_top_indices]\n",
    "# X_test_final = X_test_poly[:, best_top_indices]\n",
    "\n",
    "# # Create the final 'model' using the best features\n",
    "# model = GradientBoostingRegressor(**params)\n",
    "# model.fit(X_train_final, y_train)\n",
    "\n",
    "# # Evaluate the final model (you can use this for testing or further analysis)\n",
    "# y_pred_final = model.predict(X_test_final)\n",
    "# final_mse = mean_squared_error(y_test, y_pred_final)\n",
    "# final_r2 = r2_score(y_test, y_pred_final)\n",
    "\n",
    "# print(\"Final Model MSE:\", final_mse)\n",
    "# print(\"Final Model R-squared:\", final_r2)"
   ]
  },
  {
   "cell_type": "code",
   "execution_count": 20,
   "metadata": {},
   "outputs": [
    {
     "ename": "KeyboardInterrupt",
     "evalue": "",
     "output_type": "error",
     "traceback": [
      "\u001b[0;31m---------------------------------------------------------------------------\u001b[0m",
      "\u001b[0;31mKeyboardInterrupt\u001b[0m                         Traceback (most recent call last)",
      "\u001b[0;32m<ipython-input-20-9427b7944daf>\u001b[0m in \u001b[0;36m<module>\u001b[0;34m\u001b[0m\n\u001b[1;32m     10\u001b[0m \u001b[0;34m\u001b[0m\u001b[0m\n\u001b[1;32m     11\u001b[0m \u001b[0;31m# Train the final model using the transformed feature matrices\u001b[0m\u001b[0;34m\u001b[0m\u001b[0;34m\u001b[0m\u001b[0;34m\u001b[0m\u001b[0m\n\u001b[0;32m---> 12\u001b[0;31m \u001b[0mmodel\u001b[0m\u001b[0;34m.\u001b[0m\u001b[0mfit\u001b[0m\u001b[0;34m(\u001b[0m\u001b[0mX_train_final_poly\u001b[0m\u001b[0;34m,\u001b[0m \u001b[0my_train\u001b[0m\u001b[0;34m)\u001b[0m\u001b[0;34m\u001b[0m\u001b[0;34m\u001b[0m\u001b[0m\n\u001b[0m\u001b[1;32m     13\u001b[0m \u001b[0;34m\u001b[0m\u001b[0m\n\u001b[1;32m     14\u001b[0m \u001b[0;31m# Make predictions using the transformed test data\u001b[0m\u001b[0;34m\u001b[0m\u001b[0;34m\u001b[0m\u001b[0;34m\u001b[0m\u001b[0m\n",
      "\u001b[0;32m~/opt/anaconda3/lib/python3.8/site-packages/sklearn/ensemble/_gb.py\u001b[0m in \u001b[0;36mfit\u001b[0;34m(self, X, y, sample_weight, monitor)\u001b[0m\n\u001b[1;32m    536\u001b[0m \u001b[0;34m\u001b[0m\u001b[0m\n\u001b[1;32m    537\u001b[0m         \u001b[0;31m# fit the boosting stages\u001b[0m\u001b[0;34m\u001b[0m\u001b[0;34m\u001b[0m\u001b[0;34m\u001b[0m\u001b[0m\n\u001b[0;32m--> 538\u001b[0;31m         n_stages = self._fit_stages(\n\u001b[0m\u001b[1;32m    539\u001b[0m             \u001b[0mX\u001b[0m\u001b[0;34m,\u001b[0m\u001b[0;34m\u001b[0m\u001b[0;34m\u001b[0m\u001b[0m\n\u001b[1;32m    540\u001b[0m             \u001b[0my\u001b[0m\u001b[0;34m,\u001b[0m\u001b[0;34m\u001b[0m\u001b[0;34m\u001b[0m\u001b[0m\n",
      "\u001b[0;32m~/opt/anaconda3/lib/python3.8/site-packages/sklearn/ensemble/_gb.py\u001b[0m in \u001b[0;36m_fit_stages\u001b[0;34m(self, X, y, raw_predictions, sample_weight, random_state, X_val, y_val, sample_weight_val, begin_at_stage, monitor)\u001b[0m\n\u001b[1;32m    613\u001b[0m \u001b[0;34m\u001b[0m\u001b[0m\n\u001b[1;32m    614\u001b[0m             \u001b[0;31m# fit next stage of trees\u001b[0m\u001b[0;34m\u001b[0m\u001b[0;34m\u001b[0m\u001b[0;34m\u001b[0m\u001b[0m\n\u001b[0;32m--> 615\u001b[0;31m             raw_predictions = self._fit_stage(\n\u001b[0m\u001b[1;32m    616\u001b[0m                 \u001b[0mi\u001b[0m\u001b[0;34m,\u001b[0m\u001b[0;34m\u001b[0m\u001b[0;34m\u001b[0m\u001b[0m\n\u001b[1;32m    617\u001b[0m                 \u001b[0mX\u001b[0m\u001b[0;34m,\u001b[0m\u001b[0;34m\u001b[0m\u001b[0;34m\u001b[0m\u001b[0m\n",
      "\u001b[0;32m~/opt/anaconda3/lib/python3.8/site-packages/sklearn/ensemble/_gb.py\u001b[0m in \u001b[0;36m_fit_stage\u001b[0;34m(self, i, X, y, raw_predictions, sample_weight, sample_mask, random_state, X_csc, X_csr)\u001b[0m\n\u001b[1;32m    255\u001b[0m \u001b[0;34m\u001b[0m\u001b[0m\n\u001b[1;32m    256\u001b[0m             \u001b[0mX\u001b[0m \u001b[0;34m=\u001b[0m \u001b[0mX_csr\u001b[0m \u001b[0;32mif\u001b[0m \u001b[0mX_csr\u001b[0m \u001b[0;32mis\u001b[0m \u001b[0;32mnot\u001b[0m \u001b[0;32mNone\u001b[0m \u001b[0;32melse\u001b[0m \u001b[0mX\u001b[0m\u001b[0;34m\u001b[0m\u001b[0;34m\u001b[0m\u001b[0m\n\u001b[0;32m--> 257\u001b[0;31m             \u001b[0mtree\u001b[0m\u001b[0;34m.\u001b[0m\u001b[0mfit\u001b[0m\u001b[0;34m(\u001b[0m\u001b[0mX\u001b[0m\u001b[0;34m,\u001b[0m \u001b[0mresidual\u001b[0m\u001b[0;34m,\u001b[0m \u001b[0msample_weight\u001b[0m\u001b[0;34m=\u001b[0m\u001b[0msample_weight\u001b[0m\u001b[0;34m,\u001b[0m \u001b[0mcheck_input\u001b[0m\u001b[0;34m=\u001b[0m\u001b[0;32mFalse\u001b[0m\u001b[0;34m)\u001b[0m\u001b[0;34m\u001b[0m\u001b[0;34m\u001b[0m\u001b[0m\n\u001b[0m\u001b[1;32m    258\u001b[0m \u001b[0;34m\u001b[0m\u001b[0m\n\u001b[1;32m    259\u001b[0m             \u001b[0;31m# update tree leaves\u001b[0m\u001b[0;34m\u001b[0m\u001b[0;34m\u001b[0m\u001b[0;34m\u001b[0m\u001b[0m\n",
      "\u001b[0;32m~/opt/anaconda3/lib/python3.8/site-packages/sklearn/tree/_classes.py\u001b[0m in \u001b[0;36mfit\u001b[0;34m(self, X, y, sample_weight, check_input)\u001b[0m\n\u001b[1;32m   1245\u001b[0m         \"\"\"\n\u001b[1;32m   1246\u001b[0m \u001b[0;34m\u001b[0m\u001b[0m\n\u001b[0;32m-> 1247\u001b[0;31m         super().fit(\n\u001b[0m\u001b[1;32m   1248\u001b[0m             \u001b[0mX\u001b[0m\u001b[0;34m,\u001b[0m\u001b[0;34m\u001b[0m\u001b[0;34m\u001b[0m\u001b[0m\n\u001b[1;32m   1249\u001b[0m             \u001b[0my\u001b[0m\u001b[0;34m,\u001b[0m\u001b[0;34m\u001b[0m\u001b[0;34m\u001b[0m\u001b[0m\n",
      "\u001b[0;32m~/opt/anaconda3/lib/python3.8/site-packages/sklearn/tree/_classes.py\u001b[0m in \u001b[0;36mfit\u001b[0;34m(self, X, y, sample_weight, check_input)\u001b[0m\n\u001b[1;32m    377\u001b[0m             )\n\u001b[1;32m    378\u001b[0m \u001b[0;34m\u001b[0m\u001b[0m\n\u001b[0;32m--> 379\u001b[0;31m         \u001b[0mbuilder\u001b[0m\u001b[0;34m.\u001b[0m\u001b[0mbuild\u001b[0m\u001b[0;34m(\u001b[0m\u001b[0mself\u001b[0m\u001b[0;34m.\u001b[0m\u001b[0mtree_\u001b[0m\u001b[0;34m,\u001b[0m \u001b[0mX\u001b[0m\u001b[0;34m,\u001b[0m \u001b[0my\u001b[0m\u001b[0;34m,\u001b[0m \u001b[0msample_weight\u001b[0m\u001b[0;34m)\u001b[0m\u001b[0;34m\u001b[0m\u001b[0;34m\u001b[0m\u001b[0m\n\u001b[0m\u001b[1;32m    380\u001b[0m \u001b[0;34m\u001b[0m\u001b[0m\n\u001b[1;32m    381\u001b[0m         \u001b[0;32mif\u001b[0m \u001b[0mself\u001b[0m\u001b[0;34m.\u001b[0m\u001b[0mn_outputs_\u001b[0m \u001b[0;34m==\u001b[0m \u001b[0;36m1\u001b[0m \u001b[0;32mand\u001b[0m \u001b[0mis_classifier\u001b[0m\u001b[0;34m(\u001b[0m\u001b[0mself\u001b[0m\u001b[0;34m)\u001b[0m\u001b[0;34m:\u001b[0m\u001b[0;34m\u001b[0m\u001b[0;34m\u001b[0m\u001b[0m\n",
      "\u001b[0;31mKeyboardInterrupt\u001b[0m: "
     ]
    }
   ],
   "source": [
    "# # Create a PolynomialFeatures transformer with the same degree as your original transformation\n",
    "# poly_features_final = PolynomialFeatures(degree=2, include_bias=False)\n",
    "\n",
    "# # Transform your final feature matrices using the same polynomial transformation\n",
    "# X_train_final_poly = poly_features_final.fit_transform(X_train_final)\n",
    "# X_test_final_poly = poly_features_final.transform(X_test_final)\n",
    "\n",
    "# # Create the final 'model' using the best features\n",
    "# model = GradientBoostingRegressor(**params)\n",
    "\n",
    "# # Train the final model using the transformed feature matrices\n",
    "# model.fit(X_train_final_poly, y_train)\n",
    "\n",
    "# # Make predictions using the transformed test data\n",
    "# y_pred_final = model.predict(X_test_final_poly)\n",
    "\n",
    "# # Evaluate the final model with the transformed data\n",
    "# final_mse = mean_squared_error(y_test, y_pred_final)\n",
    "# final_r2 = r2_score(y_test, y_pred_final)\n",
    "\n",
    "# print(\"Final Model MSE:\", final_mse)\n",
    "# print(\"Final Model R-squared:\", final_r2)"
   ]
  },
  {
   "cell_type": "code",
   "execution_count": 96,
   "metadata": {},
   "outputs": [
    {
     "data": {
      "image/png": "[encoded data removed]",
      "text/plain": [
       "<Figure size 432x432 with 1 Axes>"
      ]
     },
     "metadata": {
      "needs_background": "light"
     },
     "output_type": "display_data"
    }
   ],
   "source": [
    "test_score = np.zeros((params[\"n_estimators\"],), dtype=np.float64)\n",
    "for i, y_pred in enumerate(model.staged_predict(X_test_final)):\n",
    "    test_score[i] = mean_squared_error(y_test, y_pred)\n",
    "\n",
    "fig = plt.figure(figsize=(6, 6))\n",
    "plt.subplot(1, 1, 1)\n",
    "plt.title(\"Deviance\")\n",
    "plt.plot(\n",
    "    np.arange(params[\"n_estimators\"]) + 1,\n",
    "    model.train_score_,\n",
    "    \"b-\",\n",
    "    label=\"Training Set Deviance\",\n",
    ")\n",
    "plt.plot(\n",
    "    np.arange(params[\"n_estimators\"]) + 1, test_score, \"r-\", label=\"Test Set Deviance\"\n",
    ")\n",
    "plt.legend(loc=\"upper right\")\n",
    "plt.xlabel(\"Boosting Iterations\")\n",
    "plt.ylabel(\"Deviance\")\n",
    "fig.tight_layout()\n",
    "plt.show()"
   ]
  },
  {
   "cell_type": "code",
   "execution_count": 97,
   "metadata": {},
   "outputs": [
    {
     "name": "stdout",
     "output_type": "stream",
     "text": [
      "Final Model MSE: 2282.2539669416383\n",
      "Final Model R-squared: 0.5158994039547794\n"
     ]
    }
   ],
   "source": [
    "# params = {'n_estimators':1200, 'min_samples_split':15, 'max_depth':3, 'learning_rate':0.005,}\n",
    "\n",
    "# Create the final 'model' using the best features\n",
    "model = GradientBoostingRegressor(**params)\n",
    "model.fit(X_train_final, y_train)\n",
    "\n",
    "# Evaluate the final model (you can use this for testing or further analysis)\n",
    "y_pred_final = model.predict(X_test_final)\n",
    "final_mse = mean_squared_error(y_test, y_pred_final)\n",
    "final_r2 = r2_score(y_test, y_pred_final)\n",
    "\n",
    "print(\"Final Model MSE:\", final_mse)\n",
    "print(\"Final Model R-squared:\", final_r2)"
   ]
  },
  {
   "cell_type": "code",
   "execution_count": 79,
   "metadata": {},
   "outputs": [
    {
     "data": {
      "image/png": "[encoded data removed]",
      "text/plain": [
       "<Figure size 432x432 with 1 Axes>"
      ]
     },
     "metadata": {
      "needs_background": "light"
     },
     "output_type": "display_data"
    }
   ],
   "source": [
    "test_score = np.zeros((params[\"n_estimators\"],), dtype=np.float64)\n",
    "for i, y_pred in enumerate(model.staged_predict(X_test_final)):\n",
    "    test_score[i] = mean_squared_error(y_test, y_pred)\n",
    "\n",
    "fig = plt.figure(figsize=(6, 6))\n",
    "plt.subplot(1, 1, 1)\n",
    "plt.title(\"Deviance\")\n",
    "plt.plot(\n",
    "    np.arange(params[\"n_estimators\"]) + 1,\n",
    "    model.train_score_,\n",
    "    \"b-\",\n",
    "    label=\"Training Set Deviance\",\n",
    ")\n",
    "plt.plot(\n",
    "    np.arange(params[\"n_estimators\"]) + 1, test_score, \"r-\", label=\"Test Set Deviance\"\n",
    ")\n",
    "plt.legend(loc=\"upper right\")\n",
    "plt.xlabel(\"Boosting Iterations\")\n",
    "plt.ylabel(\"Deviance\")\n",
    "fig.tight_layout()\n",
    "plt.show()"
   ]
  },
  {
   "cell_type": "markdown",
   "metadata": {},
   "source": [
    "It looks like we've reached convergence on test set deviance"
   ]
  },
  {
   "cell_type": "code",
   "execution_count": null,
   "metadata": {},
   "outputs": [],
   "source": []
  },
  {
   "cell_type": "code",
   "execution_count": 112,
   "metadata": {},
   "outputs": [
    {
     "data": {
      "text/html": [
       "<style>#sk-container-id-5 {color: black;background-color: white;}#sk-container-id-5 pre{padding: 0;}#sk-container-id-5 div.sk-toggleable {background-color: white;}#sk-container-id-5 label.sk-toggleable__label {cursor: pointer;display: block;width: 100%;margin-bottom: 0;padding: 0.3em;box-sizing: border-box;text-align: center;}#sk-container-id-5 label.sk-toggleable__label-arrow:before {content: \"▸\";float: left;margin-right: 0.25em;color: #696969;}#sk-container-id-5 label.sk-toggleable__label-arrow:hover:before {color: black;}#sk-container-id-5 div.sk-estimator:hover label.sk-toggleable__label-arrow:before {color: black;}#sk-container-id-5 div.sk-toggleable__content {max-height: 0;max-width: 0;overflow: hidden;text-align: left;background-color: #f0f8ff;}#sk-container-id-5 div.sk-toggleable__content pre {margin: 0.2em;color: black;border-radius: 0.25em;background-color: #f0f8ff;}#sk-container-id-5 input.sk-toggleable__control:checked~div.sk-toggleable__content {max-height: 200px;max-width: 100%;overflow: auto;}#sk-container-id-5 input.sk-toggleable__control:checked~label.sk-toggleable__label-arrow:before {content: \"▾\";}#sk-container-id-5 div.sk-estimator input.sk-toggleable__control:checked~label.sk-toggleable__label {background-color: #d4ebff;}#sk-container-id-5 div.sk-label input.sk-toggleable__control:checked~label.sk-toggleable__label {background-color: #d4ebff;}#sk-container-id-5 input.sk-hidden--visually {border: 0;clip: rect(1px 1px 1px 1px);clip: rect(1px, 1px, 1px, 1px);height: 1px;margin: -1px;overflow: hidden;padding: 0;position: absolute;width: 1px;}#sk-container-id-5 div.sk-estimator {font-family: monospace;background-color: #f0f8ff;border: 1px dotted black;border-radius: 0.25em;box-sizing: border-box;margin-bottom: 0.5em;}#sk-container-id-5 div.sk-estimator:hover {background-color: #d4ebff;}#sk-container-id-5 div.sk-parallel-item::after {content: \"\";width: 100%;border-bottom: 1px solid gray;flex-grow: 1;}#sk-container-id-5 div.sk-label:hover label.sk-toggleable__label {background-color: #d4ebff;}#sk-container-id-5 div.sk-serial::before {content: \"\";position: absolute;border-left: 1px solid gray;box-sizing: border-box;top: 0;bottom: 0;left: 50%;z-index: 0;}#sk-container-id-5 div.sk-serial {display: flex;flex-direction: column;align-items: center;background-color: white;padding-right: 0.2em;padding-left: 0.2em;position: relative;}#sk-container-id-5 div.sk-item {position: relative;z-index: 1;}#sk-container-id-5 div.sk-parallel {display: flex;align-items: stretch;justify-content: center;background-color: white;position: relative;}#sk-container-id-5 div.sk-item::before, #sk-container-id-5 div.sk-parallel-item::before {content: \"\";position: absolute;border-left: 1px solid gray;box-sizing: border-box;top: 0;bottom: 0;left: 50%;z-index: -1;}#sk-container-id-5 div.sk-parallel-item {display: flex;flex-direction: column;z-index: 1;position: relative;background-color: white;}#sk-container-id-5 div.sk-parallel-item:first-child::after {align-self: flex-end;width: 50%;}#sk-container-id-5 div.sk-parallel-item:last-child::after {align-self: flex-start;width: 50%;}#sk-container-id-5 div.sk-parallel-item:only-child::after {width: 0;}#sk-container-id-5 div.sk-dashed-wrapped {border: 1px dashed gray;margin: 0 0.4em 0.5em 0.4em;box-sizing: border-box;padding-bottom: 0.4em;background-color: white;}#sk-container-id-5 div.sk-label label {font-family: monospace;font-weight: bold;display: inline-block;line-height: 1.2em;}#sk-container-id-5 div.sk-label-container {text-align: center;}#sk-container-id-5 div.sk-container {/* jupyter's `normalize.less` sets `[hidden] { display: none; }` but bootstrap.min.css set `[hidden] { display: none !important; }` so we also need the `!important` here to be able to override the default hidden behavior on the sphinx rendered scikit-learn.org. See: https://github.com/scikit-learn/scikit-learn/issues/21755 */display: inline-block !important;position: relative;}#sk-container-id-5 div.sk-text-repr-fallback {display: none;}</style><div id=\"sk-container-id-5\" class=\"sk-top-container\"><div class=\"sk-text-repr-fallback\"><pre>GradientBoostingRegressor(learning_rate=0.005, min_samples_split=15,\n",
       "                          n_estimators=500)</pre><b>In a Jupyter environment, please rerun this cell to show the HTML representation or trust the notebook. <br />On GitHub, the HTML representation is unable to render, please try loading this page with nbviewer.org.</b></div><div class=\"sk-container\" hidden><div class=\"sk-item\"><div class=\"sk-estimator sk-toggleable\"><input class=\"sk-toggleable__control sk-hidden--visually\" id=\"sk-estimator-id-5\" type=\"checkbox\" checked><label for=\"sk-estimator-id-5\" class=\"sk-toggleable__label sk-toggleable__label-arrow\">GradientBoostingRegressor</label><div class=\"sk-toggleable__content\"><pre>GradientBoostingRegressor(learning_rate=0.005, min_samples_split=15,\n",
       "                          n_estimators=500)</pre></div></div></div></div></div>"
      ],
      "text/plain": [
       "GradientBoostingRegressor(learning_rate=0.005, min_samples_split=15,\n",
       "                          n_estimators=500)"
      ]
     },
     "execution_count": 112,
     "metadata": {},
     "output_type": "execute_result"
    }
   ],
   "source": [
    "model.fit(X, y)"
   ]
  },
  {
   "cell_type": "markdown",
   "metadata": {},
   "source": [
    "## XGBoost"
   ]
  },
  {
   "cell_type": "code",
   "execution_count": 117,
   "metadata": {},
   "outputs": [
    {
     "ename": "ModuleNotFoundError",
     "evalue": "No module named 'xgboost'",
     "output_type": "error",
     "traceback": [
      "\u001b[0;31m---------------------------------------------------------------------------\u001b[0m",
      "\u001b[0;31mModuleNotFoundError\u001b[0m                       Traceback (most recent call last)",
      "\u001b[0;32m<ipython-input-117-7a10a78775d2>\u001b[0m in \u001b[0;36m<module>\u001b[0;34m\u001b[0m\n\u001b[0;32m----> 1\u001b[0;31m \u001b[0;32mimport\u001b[0m \u001b[0mxgboost\u001b[0m \u001b[0;32mas\u001b[0m \u001b[0mxgb\u001b[0m\u001b[0;34m\u001b[0m\u001b[0;34m\u001b[0m\u001b[0m\n\u001b[0m\u001b[1;32m      2\u001b[0m \u001b[0;32mfrom\u001b[0m \u001b[0msklearn\u001b[0m\u001b[0;34m.\u001b[0m\u001b[0mpreprocessing\u001b[0m \u001b[0;32mimport\u001b[0m \u001b[0mPolynomialFeatures\u001b[0m\u001b[0;34m\u001b[0m\u001b[0;34m\u001b[0m\u001b[0m\n\u001b[1;32m      3\u001b[0m \u001b[0;34m\u001b[0m\u001b[0m\n\u001b[1;32m      4\u001b[0m \u001b[0;31m# Create a PolynomialFeatures transformer with the same degree as your original transformation\u001b[0m\u001b[0;34m\u001b[0m\u001b[0;34m\u001b[0m\u001b[0;34m\u001b[0m\u001b[0m\n\u001b[1;32m      5\u001b[0m \u001b[0mpoly_features_final\u001b[0m \u001b[0;34m=\u001b[0m \u001b[0mPolynomialFeatures\u001b[0m\u001b[0;34m(\u001b[0m\u001b[0mdegree\u001b[0m\u001b[0;34m=\u001b[0m\u001b[0;36m2\u001b[0m\u001b[0;34m,\u001b[0m \u001b[0minclude_bias\u001b[0m\u001b[0;34m=\u001b[0m\u001b[0;32mFalse\u001b[0m\u001b[0;34m)\u001b[0m\u001b[0;34m\u001b[0m\u001b[0;34m\u001b[0m\u001b[0m\n",
      "\u001b[0;31mModuleNotFoundError\u001b[0m: No module named 'xgboost'"
     ]
    }
   ],
   "source": [
    "# import xgboost as xgb\n",
    "# from sklearn.preprocessing import PolynomialFeatures\n",
    "\n",
    "# # Create a PolynomialFeatures transformer with the same degree as your original transformation\n",
    "# poly_features_final = PolynomialFeatures(degree=2, include_bias=False)\n",
    "\n",
    "# # Transform your final feature matrices using the same polynomial transformation\n",
    "# X_train_final_poly = poly_features_final.fit_transform(X_train_final)\n",
    "# X_test_final_poly = poly_features_final.transform(X_test_final)\n",
    "\n",
    "# # Create the final XGBoost model (you can set your XGBoost parameters)\n",
    "# xgb_model = xgb.XGBRegressor(**xgb_params)\n",
    "\n",
    "# # Train the XGBoost model using the transformed feature matrices\n",
    "# xgb_model.fit(X_train_final_poly, y_train)\n",
    "\n",
    "# # Make predictions using the transformed test data\n",
    "# y_pred_final = xgb_model.predict(X_test_final_poly)\n",
    "\n",
    "# # Evaluate the XGBoost model with the transformed data\n",
    "# final_mse = mean_squared_error(y_test, y_pred_final)\n",
    "# final_r2 = r2_score(y_test, y_pred_final)\n",
    "\n",
    "# print(\"Final XGBoost Model MSE:\", final_mse)\n",
    "# print(\"Final XGBoost Model R-squared:\", final_r2)"
   ]
  },
  {
   "cell_type": "markdown",
   "metadata": {},
   "source": [
    "# Kaggle Submission"
   ]
  },
  {
   "cell_type": "code",
   "execution_count": 28,
   "metadata": {},
   "outputs": [],
   "source": [
    "# Load test dataset\n",
    "\n",
    "x_test_kaggle = pd.read_csv('x_test.csv')"
   ]
  },
  {
   "cell_type": "code",
   "execution_count": 36,
   "metadata": {},
   "outputs": [],
   "source": [
    "# drop ID\n",
    "\n",
    "x_test_kaggle_drop = x_test_kaggle.drop('id', axis=1)\n",
    "\n",
    "# Get predictions \n",
    "\n",
    "y_pred_kaggle = model.predict(x_test_kaggle_drop)"
   ]
  },
  {
   "cell_type": "code",
   "execution_count": 37,
   "metadata": {},
   "outputs": [],
   "source": [
    "kaggle_df = pd.read_csv('sample_submission.csv')\n",
    "kaggle_df['y'] = y_pred_kaggle\n",
    "\n",
    "\n",
    "# kaggle_df.to_csv('submission.csv', index=False)\n",
    "kaggle_df = kaggle_df[['id', 'y']]\n",
    "kaggle_df.to_csv('Voting_Regressor2.csv', index=False)"
   ]
  },
  {
   "cell_type": "code",
   "execution_count": null,
   "metadata": {},
   "outputs": [],
   "source": []
  }
 ],
 "metadata": {
  "kernelspec": {
   "display_name": "Python 3.8.5 ('base')",
   "language": "python",
   "name": "python3"
  },
  "language_info": {
   "codemirror_mode": {
    "name": "ipython",
    "version": 3
   },
   "file_extension": ".py",
   "mimetype": "text/x-python",
   "name": "python",
   "nbconvert_exporter": "python",
   "pygments_lexer": "ipython3",
   "version": "3.8.5"
  },
  "orig_nbformat": 4,
  "vscode": {
   "interpreter": {
    "hash": "cde9e06954608812f36a56132da0251c351f6ad8984d203ba87e4f78021e1e3f"
   }
  }
 },
 "nbformat": 4,
 "nbformat_minor": 2
}
